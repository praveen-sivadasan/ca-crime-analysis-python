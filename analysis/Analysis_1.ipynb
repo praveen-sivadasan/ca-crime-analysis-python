{
 "cells": [
  {
   "cell_type": "markdown",
   "metadata": {
    "collapsed": true
   },
   "source": [
    "#### Idenifying the most violent period in California since 1980 till 2000"
   ]
  },
  {
   "cell_type": "code",
   "execution_count": 192,
   "metadata": {
    "collapsed": false
   },
   "outputs": [],
   "source": [
    "import pandas as pd\n",
    "import calendar as cal\n",
    "import datetime\n",
    "import seaborn as sns\n",
    "import matplotlib.pyplot as plt"
   ]
  },
  {
   "cell_type": "code",
   "execution_count": 217,
   "metadata": {
    "collapsed": false
   },
   "outputs": [],
   "source": [
    "state = 'California'\n",
    "file_climate = \"..\\data\\\\raw_data\\Analysis_1\\GlobalLandTemperatures\\GlobalLandTemperaturesByState.csv\"\n",
    "file_homicide = \"..\\data\\\\raw_data\\Analysis_1\\homicide-reports\\homicide_db.csv\"\n",
    "output_folder = \"..\\data\\\\processed\\Analysis_1\\\\\"\n",
    "country = 'United States'\n",
    "start_date = 1980\n",
    "end_date = 2000\n",
    "# defining months \n",
    "months = {datetime.datetime(2000,i,1).strftime(\"%b\"): i for i in range(1, 13)}"
   ]
  },
  {
   "cell_type": "code",
   "execution_count": 194,
   "metadata": {
    "collapsed": false
   },
   "outputs": [],
   "source": [
    "def getMonthWord(dfhc):\n",
    "    return df_homicide_california.Month.apply(lambda x: x[:3])"
   ]
  },
  {
   "cell_type": "code",
   "execution_count": 195,
   "metadata": {
    "collapsed": true
   },
   "outputs": [],
   "source": [
    "def label_point(x, y, val, ax):\n",
    "    row = pd.concat({'Index': x, 'Incident': y, 'State': val}, axis=1)\n",
    "    for i, point in row.iterrows():\n",
    "        ax.text(point['Index'], point['Incident'], str(point['State']))"
   ]
  },
  {
   "cell_type": "code",
   "execution_count": 196,
   "metadata": {
    "collapsed": false
   },
   "outputs": [],
   "source": [
    "#reading csv file\n",
    "df_climate = pd.read_csv(file_climate)"
   ]
  },
  {
   "cell_type": "code",
   "execution_count": 197,
   "metadata": {
    "collapsed": false
   },
   "outputs": [],
   "source": [
    "df_climate['DATE_TIME'] = pd.to_datetime(df_climate['dt'])\n",
    "\n",
    "#Adding month and year column by fetching from DATE_TIME\n",
    "df_climate['MONTH'] = pd.DatetimeIndex(df_climate['DATE_TIME']).month\n",
    "df_climate['YEAR'] = pd.DatetimeIndex(df_climate['DATE_TIME']).year\n",
    "df_climate = df_climate[['AverageTemperature','State','Country','MONTH','YEAR','DATE_TIME']]"
   ]
  },
  {
   "cell_type": "code",
   "execution_count": 198,
   "metadata": {
    "collapsed": false
   },
   "outputs": [],
   "source": [
    "#constrining the data set\n",
    "df_climate = df_climate[df_climate['Country']==country]\n",
    "df_climate = df_climate[df_climate['YEAR']>=start_date]\n",
    "df_climate = df_climate[df_climate['YEAR']<=end_date]"
   ]
  },
  {
   "cell_type": "code",
   "execution_count": 199,
   "metadata": {
    "collapsed": false
   },
   "outputs": [
    {
     "data": {
      "text/html": [
       "<div>\n",
       "<table border=\"1\" class=\"dataframe\">\n",
       "  <thead>\n",
       "    <tr style=\"text-align: right;\">\n",
       "      <th></th>\n",
       "      <th>AverageTemperature</th>\n",
       "      <th>State</th>\n",
       "      <th>Country</th>\n",
       "      <th>MONTH</th>\n",
       "      <th>YEAR</th>\n",
       "      <th>DATE_TIME</th>\n",
       "    </tr>\n",
       "  </thead>\n",
       "  <tbody>\n",
       "    <tr>\n",
       "      <th>72630</th>\n",
       "      <td>7.716</td>\n",
       "      <td>California</td>\n",
       "      <td>United States</td>\n",
       "      <td>1</td>\n",
       "      <td>1980</td>\n",
       "      <td>1980-01-01</td>\n",
       "    </tr>\n",
       "    <tr>\n",
       "      <th>72631</th>\n",
       "      <td>9.704</td>\n",
       "      <td>California</td>\n",
       "      <td>United States</td>\n",
       "      <td>2</td>\n",
       "      <td>1980</td>\n",
       "      <td>1980-02-01</td>\n",
       "    </tr>\n",
       "    <tr>\n",
       "      <th>72632</th>\n",
       "      <td>9.048</td>\n",
       "      <td>California</td>\n",
       "      <td>United States</td>\n",
       "      <td>3</td>\n",
       "      <td>1980</td>\n",
       "      <td>1980-03-01</td>\n",
       "    </tr>\n",
       "    <tr>\n",
       "      <th>72633</th>\n",
       "      <td>12.920</td>\n",
       "      <td>California</td>\n",
       "      <td>United States</td>\n",
       "      <td>4</td>\n",
       "      <td>1980</td>\n",
       "      <td>1980-04-01</td>\n",
       "    </tr>\n",
       "    <tr>\n",
       "      <th>72634</th>\n",
       "      <td>14.883</td>\n",
       "      <td>California</td>\n",
       "      <td>United States</td>\n",
       "      <td>5</td>\n",
       "      <td>1980</td>\n",
       "      <td>1980-05-01</td>\n",
       "    </tr>\n",
       "  </tbody>\n",
       "</table>\n",
       "</div>"
      ],
      "text/plain": [
       "       AverageTemperature       State        Country  MONTH  YEAR  DATE_TIME\n",
       "72630               7.716  California  United States      1  1980 1980-01-01\n",
       "72631               9.704  California  United States      2  1980 1980-02-01\n",
       "72632               9.048  California  United States      3  1980 1980-03-01\n",
       "72633              12.920  California  United States      4  1980 1980-04-01\n",
       "72634              14.883  California  United States      5  1980 1980-05-01"
      ]
     },
     "execution_count": 199,
     "metadata": {},
     "output_type": "execute_result"
    }
   ],
   "source": [
    "df_climate_state = df_climate[df_climate['State']==state]\n",
    "df_climate_state.head()"
   ]
  },
  {
   "cell_type": "code",
   "execution_count": 200,
   "metadata": {
    "collapsed": false
   },
   "outputs": [
    {
     "data": {
      "text/html": [
       "<div>\n",
       "<table border=\"1\" class=\"dataframe\">\n",
       "  <thead>\n",
       "    <tr style=\"text-align: right;\">\n",
       "      <th></th>\n",
       "      <th>MONTH</th>\n",
       "      <th>YEAR</th>\n",
       "      <th>DATE_TIME</th>\n",
       "      <th>AverageTemperature</th>\n",
       "    </tr>\n",
       "  </thead>\n",
       "  <tbody>\n",
       "    <tr>\n",
       "      <th>0</th>\n",
       "      <td>Jan</td>\n",
       "      <td>1980</td>\n",
       "      <td>1980-01-01</td>\n",
       "      <td>7.716</td>\n",
       "    </tr>\n",
       "    <tr>\n",
       "      <th>1</th>\n",
       "      <td>Jan</td>\n",
       "      <td>1981</td>\n",
       "      <td>1981-01-01</td>\n",
       "      <td>8.215</td>\n",
       "    </tr>\n",
       "    <tr>\n",
       "      <th>2</th>\n",
       "      <td>Jan</td>\n",
       "      <td>1982</td>\n",
       "      <td>1982-01-01</td>\n",
       "      <td>4.731</td>\n",
       "    </tr>\n",
       "    <tr>\n",
       "      <th>3</th>\n",
       "      <td>Jan</td>\n",
       "      <td>1983</td>\n",
       "      <td>1983-01-01</td>\n",
       "      <td>6.885</td>\n",
       "    </tr>\n",
       "    <tr>\n",
       "      <th>4</th>\n",
       "      <td>Jan</td>\n",
       "      <td>1984</td>\n",
       "      <td>1984-01-01</td>\n",
       "      <td>7.317</td>\n",
       "    </tr>\n",
       "  </tbody>\n",
       "</table>\n",
       "</div>"
      ],
      "text/plain": [
       "  MONTH  YEAR  DATE_TIME  AverageTemperature\n",
       "0   Jan  1980 1980-01-01               7.716\n",
       "1   Jan  1981 1981-01-01               8.215\n",
       "2   Jan  1982 1982-01-01               4.731\n",
       "3   Jan  1983 1983-01-01               6.885\n",
       "4   Jan  1984 1984-01-01               7.317"
      ]
     },
     "execution_count": 200,
     "metadata": {},
     "output_type": "execute_result"
    }
   ],
   "source": [
    "df_climate_state = df_climate_state.groupby(['MONTH','YEAR','DATE_TIME']).mean()\n",
    "df_climate_state = df_climate_state.reset_index()\n",
    "df_climate_state['MONTH'] = df_climate_state.MONTH.astype(str).astype(int)\n",
    "df_climate_state['MONTH'] = df_climate_state['MONTH'].apply(lambda x: cal.month_abbr[x])\n",
    "df_climate_state.head()"
   ]
  },
  {
   "cell_type": "code",
   "execution_count": 201,
   "metadata": {
    "collapsed": false
   },
   "outputs": [
    {
     "name": "stderr",
     "output_type": "stream",
     "text": [
      "C:\\Users\\Rainbow\\Anaconda3\\lib\\site-packages\\ipykernel\\__main__.py:7: FutureWarning: sort(columns=....) is deprecated, use sort_values(by=.....)\n"
     ]
    }
   ],
   "source": [
    "df_climate_month_high = df_climate_state\n",
    "df_climate_month_high['days'] = 1\n",
    "df_climate_month_high = df_climate_state.groupby('MONTH').sum()\n",
    "df_climate_month_high = df_climate_month_high.reset_index()\n",
    "df_climate_month_high['AverageTemperature'] = df_climate_month_high['AverageTemperature']/df_climate_month_high['days']\n",
    "df_climate_month_high[\"Month_Index\"] = df_climate_month_high[\"MONTH\"].map(months)\n",
    "df_climate_month_high.sort(ascending=True,columns=\"Month_Index\",inplace=True)\n",
    "df_climate_month_high = df_climate_month_high[['MONTH','AverageTemperature','Month_Index']]"
   ]
  },
  {
   "cell_type": "code",
   "execution_count": 225,
   "metadata": {
    "collapsed": true
   },
   "outputs": [],
   "source": [
    "#writing output to csv file\n",
    "df_climate_month_high.to_csv(output_folder+'Monthyly_avg_tmp.csv', sep=',', encoding='utf-8')"
   ]
  },
  {
   "cell_type": "code",
   "execution_count": 202,
   "metadata": {
    "collapsed": false
   },
   "outputs": [
    {
     "data": {
      "image/png": "[encoded data removed]",
      "text/plain": [
       "<matplotlib.figure.Figure at 0xff8056bac8>"
      ]
     },
     "metadata": {},
     "output_type": "display_data"
    }
   ],
   "source": [
    "#plotting a bar chart to identify the top the crime perpetuator age\n",
    "\n",
    "sns.set(style=\"ticks\")\n",
    "clrs = ['grey' ]# if (x < max(values)) else 'red' for x in values\n",
    "\n",
    "# This Function takes as input a custom palette\n",
    "g = sns.barplot(x=\"MONTH\", y='AverageTemperature',data=df_climate_month_high,palette=clrs)\n",
    "\n",
    "# remove the top and right line in graph\n",
    "sns.despine()\n",
    "\n",
    "# Set the size of the graph from here\n",
    "g.figure.set_size_inches(14,6)\n",
    "\n",
    "# Set the ticklabel size and color of the graph from here\n",
    "g.tick_params(labelcolor=\"black\")\n",
    "plt.show()"
   ]
  },
  {
   "cell_type": "markdown",
   "metadata": {},
   "source": [
    "##### Note: The analysis shows that during mid year temperature reaches its maximum high in California."
   ]
  },
  {
   "cell_type": "code",
   "execution_count": 203,
   "metadata": {
    "collapsed": false
   },
   "outputs": [
    {
     "name": "stderr",
     "output_type": "stream",
     "text": [
      "C:\\Users\\Rainbow\\Anaconda3\\lib\\site-packages\\ipykernel\\__main__.py:3: FutureWarning: sort(columns=....) is deprecated, use sort_values(by=.....)\n",
      "  app.launch_new_instance()\n"
     ]
    },
    {
     "data": {
      "text/html": [
       "<div>\n",
       "<table border=\"1\" class=\"dataframe\">\n",
       "  <thead>\n",
       "    <tr style=\"text-align: right;\">\n",
       "      <th>YEAR</th>\n",
       "      <th>1980</th>\n",
       "      <th>1981</th>\n",
       "      <th>1982</th>\n",
       "      <th>1983</th>\n",
       "      <th>1984</th>\n",
       "      <th>1985</th>\n",
       "      <th>1986</th>\n",
       "      <th>1987</th>\n",
       "      <th>1988</th>\n",
       "      <th>1989</th>\n",
       "      <th>...</th>\n",
       "      <th>1991</th>\n",
       "      <th>1992</th>\n",
       "      <th>1993</th>\n",
       "      <th>1994</th>\n",
       "      <th>1995</th>\n",
       "      <th>1996</th>\n",
       "      <th>1997</th>\n",
       "      <th>1998</th>\n",
       "      <th>1999</th>\n",
       "      <th>2000</th>\n",
       "    </tr>\n",
       "    <tr>\n",
       "      <th>MONTH</th>\n",
       "      <th></th>\n",
       "      <th></th>\n",
       "      <th></th>\n",
       "      <th></th>\n",
       "      <th></th>\n",
       "      <th></th>\n",
       "      <th></th>\n",
       "      <th></th>\n",
       "      <th></th>\n",
       "      <th></th>\n",
       "      <th></th>\n",
       "      <th></th>\n",
       "      <th></th>\n",
       "      <th></th>\n",
       "      <th></th>\n",
       "      <th></th>\n",
       "      <th></th>\n",
       "      <th></th>\n",
       "      <th></th>\n",
       "      <th></th>\n",
       "      <th></th>\n",
       "    </tr>\n",
       "  </thead>\n",
       "  <tbody>\n",
       "    <tr>\n",
       "      <th>Jan</th>\n",
       "      <td>7.716</td>\n",
       "      <td>8.215</td>\n",
       "      <td>4.731</td>\n",
       "      <td>6.885</td>\n",
       "      <td>7.317</td>\n",
       "      <td>5.288</td>\n",
       "      <td>9.210</td>\n",
       "      <td>5.176</td>\n",
       "      <td>5.890</td>\n",
       "      <td>4.906</td>\n",
       "      <td>...</td>\n",
       "      <td>6.365</td>\n",
       "      <td>6.202</td>\n",
       "      <td>5.211</td>\n",
       "      <td>7.542</td>\n",
       "      <td>7.105</td>\n",
       "      <td>7.556</td>\n",
       "      <td>6.950</td>\n",
       "      <td>7.262</td>\n",
       "      <td>7.227</td>\n",
       "      <td>7.667</td>\n",
       "    </tr>\n",
       "    <tr>\n",
       "      <th>Feb</th>\n",
       "      <td>9.704</td>\n",
       "      <td>9.042</td>\n",
       "      <td>8.523</td>\n",
       "      <td>8.653</td>\n",
       "      <td>8.098</td>\n",
       "      <td>7.558</td>\n",
       "      <td>9.620</td>\n",
       "      <td>8.193</td>\n",
       "      <td>9.401</td>\n",
       "      <td>6.168</td>\n",
       "      <td>...</td>\n",
       "      <td>10.872</td>\n",
       "      <td>9.780</td>\n",
       "      <td>6.972</td>\n",
       "      <td>6.780</td>\n",
       "      <td>10.907</td>\n",
       "      <td>9.572</td>\n",
       "      <td>8.375</td>\n",
       "      <td>6.764</td>\n",
       "      <td>7.402</td>\n",
       "      <td>8.692</td>\n",
       "    </tr>\n",
       "    <tr>\n",
       "      <th>Mar</th>\n",
       "      <td>9.048</td>\n",
       "      <td>9.806</td>\n",
       "      <td>8.776</td>\n",
       "      <td>9.870</td>\n",
       "      <td>11.592</td>\n",
       "      <td>8.562</td>\n",
       "      <td>12.359</td>\n",
       "      <td>9.749</td>\n",
       "      <td>11.256</td>\n",
       "      <td>11.384</td>\n",
       "      <td>...</td>\n",
       "      <td>7.606</td>\n",
       "      <td>10.922</td>\n",
       "      <td>12.006</td>\n",
       "      <td>11.985</td>\n",
       "      <td>9.934</td>\n",
       "      <td>11.228</td>\n",
       "      <td>12.580</td>\n",
       "      <td>10.034</td>\n",
       "      <td>9.068</td>\n",
       "      <td>10.534</td>\n",
       "    </tr>\n",
       "    <tr>\n",
       "      <th>Apr</th>\n",
       "      <td>12.920</td>\n",
       "      <td>13.928</td>\n",
       "      <td>11.665</td>\n",
       "      <td>10.433</td>\n",
       "      <td>12.039</td>\n",
       "      <td>14.818</td>\n",
       "      <td>12.947</td>\n",
       "      <td>15.410</td>\n",
       "      <td>13.266</td>\n",
       "      <td>15.806</td>\n",
       "      <td>...</td>\n",
       "      <td>11.824</td>\n",
       "      <td>15.266</td>\n",
       "      <td>13.203</td>\n",
       "      <td>13.574</td>\n",
       "      <td>11.964</td>\n",
       "      <td>14.121</td>\n",
       "      <td>13.389</td>\n",
       "      <td>11.235</td>\n",
       "      <td>11.013</td>\n",
       "      <td>14.629</td>\n",
       "    </tr>\n",
       "    <tr>\n",
       "      <th>May</th>\n",
       "      <td>14.883</td>\n",
       "      <td>16.914</td>\n",
       "      <td>16.767</td>\n",
       "      <td>16.547</td>\n",
       "      <td>18.755</td>\n",
       "      <td>16.529</td>\n",
       "      <td>17.022</td>\n",
       "      <td>17.775</td>\n",
       "      <td>16.129</td>\n",
       "      <td>16.680</td>\n",
       "      <td>...</td>\n",
       "      <td>14.668</td>\n",
       "      <td>19.602</td>\n",
       "      <td>17.246</td>\n",
       "      <td>16.621</td>\n",
       "      <td>15.079</td>\n",
       "      <td>17.337</td>\n",
       "      <td>20.068</td>\n",
       "      <td>13.306</td>\n",
       "      <td>16.042</td>\n",
       "      <td>17.993</td>\n",
       "    </tr>\n",
       "  </tbody>\n",
       "</table>\n",
       "<p>5 rows × 21 columns</p>\n",
       "</div>"
      ],
      "text/plain": [
       "YEAR     1980    1981    1982    1983    1984    1985    1986    1987    1988  \\\n",
       "MONTH                                                                           \n",
       "Jan     7.716   8.215   4.731   6.885   7.317   5.288   9.210   5.176   5.890   \n",
       "Feb     9.704   9.042   8.523   8.653   8.098   7.558   9.620   8.193   9.401   \n",
       "Mar     9.048   9.806   8.776   9.870  11.592   8.562  12.359   9.749  11.256   \n",
       "Apr    12.920  13.928  11.665  10.433  12.039  14.818  12.947  15.410  13.266   \n",
       "May    14.883  16.914  16.767  16.547  18.755  16.529  17.022  17.775  16.129   \n",
       "\n",
       "YEAR     1989   ...      1991    1992    1993    1994    1995    1996    1997  \\\n",
       "MONTH           ...                                                             \n",
       "Jan     4.906   ...     6.365   6.202   5.211   7.542   7.105   7.556   6.950   \n",
       "Feb     6.168   ...    10.872   9.780   6.972   6.780  10.907   9.572   8.375   \n",
       "Mar    11.384   ...     7.606  10.922  12.006  11.985   9.934  11.228  12.580   \n",
       "Apr    15.806   ...    11.824  15.266  13.203  13.574  11.964  14.121  13.389   \n",
       "May    16.680   ...    14.668  19.602  17.246  16.621  15.079  17.337  20.068   \n",
       "\n",
       "YEAR     1998    1999    2000  \n",
       "MONTH                          \n",
       "Jan     7.262   7.227   7.667  \n",
       "Feb     6.764   7.402   8.692  \n",
       "Mar    10.034   9.068  10.534  \n",
       "Apr    11.235  11.013  14.629  \n",
       "May    13.306  16.042  17.993  \n",
       "\n",
       "[5 rows x 21 columns]"
      ]
     },
     "execution_count": 203,
     "metadata": {},
     "output_type": "execute_result"
    }
   ],
   "source": [
    "#devising matrix data\n",
    "\n",
    "df_climate_state = df_climate_state.sort(ascending=True,columns='DATE_TIME')\n",
    "df_climate_state_data = df_climate_state.pivot(\"MONTH\", \"YEAR\", \"AverageTemperature\")\n",
    "df_climate_state_data = df_climate_state_data.ix[df_climate_state.MONTH.iloc[:12]]\n",
    "df_climate_state_data.head()"
   ]
  },
  {
   "cell_type": "code",
   "execution_count": 226,
   "metadata": {
    "collapsed": true
   },
   "outputs": [],
   "source": [
    "#writing output to csv file\n",
    "df_climate_state_data.to_csv(output_folder+'Monthly_temp_1980_20.csv', sep=',', encoding='utf-8')"
   ]
  },
  {
   "cell_type": "markdown",
   "metadata": {},
   "source": [
    "##### Note: The above data frame depicts the average climate at various months from 1980 to 2000. "
   ]
  },
  {
   "cell_type": "markdown",
   "metadata": {},
   "source": [
    "#### Analysing homicide data!"
   ]
  },
  {
   "cell_type": "code",
   "execution_count": 204,
   "metadata": {
    "collapsed": false
   },
   "outputs": [
    {
     "name": "stderr",
     "output_type": "stream",
     "text": [
      "C:\\Users\\Rainbow\\Anaconda3\\lib\\site-packages\\IPython\\core\\interactiveshell.py:2717: DtypeWarning: Columns (16) have mixed types. Specify dtype option on import or set low_memory=False.\n",
      "  interactivity=interactivity, compiler=compiler, result=result)\n"
     ]
    }
   ],
   "source": [
    "#reading csv file\n",
    "df_homicide = pd.read_csv(file_homicide)"
   ]
  },
  {
   "cell_type": "code",
   "execution_count": 205,
   "metadata": {
    "collapsed": false
   },
   "outputs": [
    {
     "name": "stderr",
     "output_type": "stream",
     "text": [
      "C:\\Users\\Rainbow\\Anaconda3\\lib\\site-packages\\ipykernel\\__main__.py:7: FutureWarning: sort(columns=....) is deprecated, use sort_values(by=.....)\n"
     ]
    }
   ],
   "source": [
    "# Identifying the state with highest murders\n",
    "df_homicide_max = df_homicide[df_homicide['Year']<=end_date]\n",
    "df_homicide_max = df_homicide_max[['State','Incident']]\n",
    "df_homicide_max = df_homicide_max.groupby('State').sum()\n",
    "df_homicide_max = df_homicide_max[:10]\n",
    "df_homicide_max.reset_index(level=0,inplace=True)\n",
    "df_homicide_max.sort(ascending=True,inplace=True, columns='State')\n",
    "df_homicide_max['Index'] = df_homicide_max.index"
   ]
  },
  {
   "cell_type": "code",
   "execution_count": 224,
   "metadata": {
    "collapsed": false
   },
   "outputs": [
    {
     "name": "stderr",
     "output_type": "stream",
     "text": [
      "C:\\Users\\Rainbow\\Anaconda3\\lib\\site-packages\\ipykernel\\__main__.py:2: FutureWarning: sort(columns=....) is deprecated, use sort_values(by=.....)\n",
      "  from ipykernel import kernelapp as app\n"
     ]
    }
   ],
   "source": [
    "#writing output to csv file\n",
    "df_homicide_max.sort(ascending=False,inplace=False, columns='Incident').to_csv(output_folder+'Murder_rate_states.csv', sep=',', encoding='utf-8')"
   ]
  },
  {
   "cell_type": "code",
   "execution_count": 206,
   "metadata": {
    "collapsed": false
   },
   "outputs": [
    {
     "data": {
      "image/png": "[encoded data removed]",
      "text/plain": [
       "<matplotlib.figure.Figure at 0xff812b04e0>"
      ]
     },
     "metadata": {},
     "output_type": "display_data"
    }
   ],
   "source": [
    "cmap = plt.get_cmap('Spectral')\n",
    "fig, ax = plt.subplots(figsize=(17,6))\n",
    "\n",
    "df_homicide_max.plot('Index', 'Incident', kind='scatter', ax=ax, s=120, linewidth=0, \n",
    "        c=range(len(df_homicide_max)), colormap=cmap)\n",
    "\n",
    "for k, point in df_homicide_max.iterrows():\n",
    "    ax.text(point['Index'], point['Incident'], str(point['State']))\n",
    "\n",
    "plt.show()"
   ]
  },
  {
   "cell_type": "markdown",
   "metadata": {},
   "source": [
    "###### Note: The scatter plot depicts that California is one of the state with highest murder rates in US between 1980 to 2000."
   ]
  },
  {
   "cell_type": "code",
   "execution_count": 207,
   "metadata": {
    "collapsed": false
   },
   "outputs": [
    {
     "data": {
      "text/html": [
       "<div>\n",
       "<table border=\"1\" class=\"dataframe\">\n",
       "  <thead>\n",
       "    <tr style=\"text-align: right;\">\n",
       "      <th></th>\n",
       "      <th>Record ID</th>\n",
       "      <th>Agency Code</th>\n",
       "      <th>Agency Name</th>\n",
       "      <th>Agency Type</th>\n",
       "      <th>City</th>\n",
       "      <th>State</th>\n",
       "      <th>Year</th>\n",
       "      <th>Month</th>\n",
       "      <th>Incident</th>\n",
       "      <th>Crime Type</th>\n",
       "      <th>...</th>\n",
       "      <th>Victim Ethnicity</th>\n",
       "      <th>Perpetrator Sex</th>\n",
       "      <th>Perpetrator Age</th>\n",
       "      <th>Perpetrator Race</th>\n",
       "      <th>Perpetrator Ethnicity</th>\n",
       "      <th>Relationship</th>\n",
       "      <th>Weapon</th>\n",
       "      <th>Victim Count</th>\n",
       "      <th>Perpetrator Count</th>\n",
       "      <th>Record Source</th>\n",
       "    </tr>\n",
       "  </thead>\n",
       "  <tbody>\n",
       "    <tr>\n",
       "      <th>1067</th>\n",
       "      <td>1068</td>\n",
       "      <td>CA00100</td>\n",
       "      <td>Alameda</td>\n",
       "      <td>Sheriff</td>\n",
       "      <td>Alameda</td>\n",
       "      <td>California</td>\n",
       "      <td>1980</td>\n",
       "      <td>April</td>\n",
       "      <td>1</td>\n",
       "      <td>Murder or Manslaughter</td>\n",
       "      <td>...</td>\n",
       "      <td>Unknown</td>\n",
       "      <td>Unknown</td>\n",
       "      <td>0</td>\n",
       "      <td>Unknown</td>\n",
       "      <td>Unknown</td>\n",
       "      <td>Unknown</td>\n",
       "      <td>Knife</td>\n",
       "      <td>0</td>\n",
       "      <td>1</td>\n",
       "      <td>FBI</td>\n",
       "    </tr>\n",
       "    <tr>\n",
       "      <th>1068</th>\n",
       "      <td>1069</td>\n",
       "      <td>CA00100</td>\n",
       "      <td>Alameda</td>\n",
       "      <td>Sheriff</td>\n",
       "      <td>Alameda</td>\n",
       "      <td>California</td>\n",
       "      <td>1980</td>\n",
       "      <td>August</td>\n",
       "      <td>1</td>\n",
       "      <td>Murder or Manslaughter</td>\n",
       "      <td>...</td>\n",
       "      <td>Not Hispanic</td>\n",
       "      <td>Male</td>\n",
       "      <td>39</td>\n",
       "      <td>White</td>\n",
       "      <td>Not Hispanic</td>\n",
       "      <td>Son</td>\n",
       "      <td>Handgun</td>\n",
       "      <td>0</td>\n",
       "      <td>0</td>\n",
       "      <td>FBI</td>\n",
       "    </tr>\n",
       "    <tr>\n",
       "      <th>1069</th>\n",
       "      <td>1070</td>\n",
       "      <td>CA00100</td>\n",
       "      <td>Alameda</td>\n",
       "      <td>Sheriff</td>\n",
       "      <td>Alameda</td>\n",
       "      <td>California</td>\n",
       "      <td>1980</td>\n",
       "      <td>October</td>\n",
       "      <td>1</td>\n",
       "      <td>Murder or Manslaughter</td>\n",
       "      <td>...</td>\n",
       "      <td>Not Hispanic</td>\n",
       "      <td>Unknown</td>\n",
       "      <td>0</td>\n",
       "      <td>Unknown</td>\n",
       "      <td>Unknown</td>\n",
       "      <td>Unknown</td>\n",
       "      <td>Fire</td>\n",
       "      <td>0</td>\n",
       "      <td>1</td>\n",
       "      <td>FBI</td>\n",
       "    </tr>\n",
       "    <tr>\n",
       "      <th>1070</th>\n",
       "      <td>1071</td>\n",
       "      <td>CA00100</td>\n",
       "      <td>Alameda</td>\n",
       "      <td>Sheriff</td>\n",
       "      <td>Alameda</td>\n",
       "      <td>California</td>\n",
       "      <td>1980</td>\n",
       "      <td>November</td>\n",
       "      <td>1</td>\n",
       "      <td>Murder or Manslaughter</td>\n",
       "      <td>...</td>\n",
       "      <td>Hispanic</td>\n",
       "      <td>Unknown</td>\n",
       "      <td>0</td>\n",
       "      <td>Unknown</td>\n",
       "      <td>Unknown</td>\n",
       "      <td>Unknown</td>\n",
       "      <td>Knife</td>\n",
       "      <td>0</td>\n",
       "      <td>0</td>\n",
       "      <td>FBI</td>\n",
       "    </tr>\n",
       "    <tr>\n",
       "      <th>1071</th>\n",
       "      <td>1072</td>\n",
       "      <td>CA00100</td>\n",
       "      <td>Alameda</td>\n",
       "      <td>Sheriff</td>\n",
       "      <td>Alameda</td>\n",
       "      <td>California</td>\n",
       "      <td>1980</td>\n",
       "      <td>November</td>\n",
       "      <td>2</td>\n",
       "      <td>Murder or Manslaughter</td>\n",
       "      <td>...</td>\n",
       "      <td>Not Hispanic</td>\n",
       "      <td>Unknown</td>\n",
       "      <td>0</td>\n",
       "      <td>Unknown</td>\n",
       "      <td>Unknown</td>\n",
       "      <td>Unknown</td>\n",
       "      <td>Knife</td>\n",
       "      <td>0</td>\n",
       "      <td>0</td>\n",
       "      <td>FBI</td>\n",
       "    </tr>\n",
       "  </tbody>\n",
       "</table>\n",
       "<p>5 rows × 24 columns</p>\n",
       "</div>"
      ],
      "text/plain": [
       "      Record ID Agency Code Agency Name Agency Type     City       State  \\\n",
       "1067       1068     CA00100     Alameda     Sheriff  Alameda  California   \n",
       "1068       1069     CA00100     Alameda     Sheriff  Alameda  California   \n",
       "1069       1070     CA00100     Alameda     Sheriff  Alameda  California   \n",
       "1070       1071     CA00100     Alameda     Sheriff  Alameda  California   \n",
       "1071       1072     CA00100     Alameda     Sheriff  Alameda  California   \n",
       "\n",
       "      Year     Month  Incident              Crime Type      ...       \\\n",
       "1067  1980     April         1  Murder or Manslaughter      ...        \n",
       "1068  1980    August         1  Murder or Manslaughter      ...        \n",
       "1069  1980   October         1  Murder or Manslaughter      ...        \n",
       "1070  1980  November         1  Murder or Manslaughter      ...        \n",
       "1071  1980  November         2  Murder or Manslaughter      ...        \n",
       "\n",
       "     Victim Ethnicity Perpetrator Sex  Perpetrator Age Perpetrator Race  \\\n",
       "1067          Unknown         Unknown                0          Unknown   \n",
       "1068     Not Hispanic            Male               39            White   \n",
       "1069     Not Hispanic         Unknown                0          Unknown   \n",
       "1070         Hispanic         Unknown                0          Unknown   \n",
       "1071     Not Hispanic         Unknown                0          Unknown   \n",
       "\n",
       "     Perpetrator Ethnicity Relationship   Weapon Victim Count  \\\n",
       "1067               Unknown      Unknown    Knife            0   \n",
       "1068          Not Hispanic          Son  Handgun            0   \n",
       "1069               Unknown      Unknown     Fire            0   \n",
       "1070               Unknown      Unknown    Knife            0   \n",
       "1071               Unknown      Unknown    Knife            0   \n",
       "\n",
       "     Perpetrator Count Record Source  \n",
       "1067                 1           FBI  \n",
       "1068                 0           FBI  \n",
       "1069                 1           FBI  \n",
       "1070                 0           FBI  \n",
       "1071                 0           FBI  \n",
       "\n",
       "[5 rows x 24 columns]"
      ]
     },
     "execution_count": 207,
     "metadata": {},
     "output_type": "execute_result"
    }
   ],
   "source": [
    "# constraining the homicide data set\n",
    "df_homicide_california = df_homicide[df_homicide['State']==state]\n",
    "df_homicide_california = df_homicide_california[df_homicide_california['Year']<=end_date]\n",
    "df_homicide_california.head()\n",
    "\n",
    "# homicide data set"
   ]
  },
  {
   "cell_type": "code",
   "execution_count": 208,
   "metadata": {
    "collapsed": false
   },
   "outputs": [
    {
     "data": {
      "text/html": [
       "<div>\n",
       "<table border=\"1\" class=\"dataframe\">\n",
       "  <thead>\n",
       "    <tr style=\"text-align: right;\">\n",
       "      <th></th>\n",
       "      <th></th>\n",
       "      <th>Record ID</th>\n",
       "      <th>Incident</th>\n",
       "      <th>Victim Age</th>\n",
       "      <th>Victim Count</th>\n",
       "      <th>Perpetrator Count</th>\n",
       "    </tr>\n",
       "    <tr>\n",
       "      <th>Month</th>\n",
       "      <th>Year</th>\n",
       "      <th></th>\n",
       "      <th></th>\n",
       "      <th></th>\n",
       "      <th></th>\n",
       "      <th></th>\n",
       "    </tr>\n",
       "  </thead>\n",
       "  <tbody>\n",
       "    <tr>\n",
       "      <th rowspan=\"5\" valign=\"top\">April</th>\n",
       "      <th>1980</th>\n",
       "      <td>688313</td>\n",
       "      <td>3743</td>\n",
       "      <td>8257</td>\n",
       "      <td>20</td>\n",
       "      <td>87</td>\n",
       "    </tr>\n",
       "    <tr>\n",
       "      <th>1981</th>\n",
       "      <td>6561264</td>\n",
       "      <td>3199</td>\n",
       "      <td>8719</td>\n",
       "      <td>18</td>\n",
       "      <td>44</td>\n",
       "    </tr>\n",
       "    <tr>\n",
       "      <th>1982</th>\n",
       "      <td>11713558</td>\n",
       "      <td>3250</td>\n",
       "      <td>8019</td>\n",
       "      <td>20</td>\n",
       "      <td>57</td>\n",
       "    </tr>\n",
       "    <tr>\n",
       "      <th>1983</th>\n",
       "      <td>15680259</td>\n",
       "      <td>3598</td>\n",
       "      <td>8097</td>\n",
       "      <td>18</td>\n",
       "      <td>40</td>\n",
       "    </tr>\n",
       "    <tr>\n",
       "      <th>1984</th>\n",
       "      <td>20975823</td>\n",
       "      <td>2787</td>\n",
       "      <td>8184</td>\n",
       "      <td>24</td>\n",
       "      <td>24</td>\n",
       "    </tr>\n",
       "  </tbody>\n",
       "</table>\n",
       "</div>"
      ],
      "text/plain": [
       "            Record ID  Incident  Victim Age  Victim Count  Perpetrator Count\n",
       "Month Year                                                                  \n",
       "April 1980     688313      3743        8257            20                 87\n",
       "      1981    6561264      3199        8719            18                 44\n",
       "      1982   11713558      3250        8019            20                 57\n",
       "      1983   15680259      3598        8097            18                 40\n",
       "      1984   20975823      2787        8184            24                 24"
      ]
     },
     "execution_count": 208,
     "metadata": {},
     "output_type": "execute_result"
    }
   ],
   "source": [
    "df_homicide_california = df_homicide_california.groupby(['Month','Year']).sum()\n",
    "df_homicide_california.head()"
   ]
  },
  {
   "cell_type": "code",
   "execution_count": 209,
   "metadata": {
    "collapsed": true
   },
   "outputs": [],
   "source": [
    "df_homicide_california = df_homicide_california.reset_index()"
   ]
  },
  {
   "cell_type": "code",
   "execution_count": 210,
   "metadata": {
    "collapsed": false
   },
   "outputs": [
    {
     "data": {
      "text/html": [
       "<div>\n",
       "<table border=\"1\" class=\"dataframe\">\n",
       "  <thead>\n",
       "    <tr style=\"text-align: right;\">\n",
       "      <th></th>\n",
       "      <th>Month</th>\n",
       "      <th>Year</th>\n",
       "      <th>Record ID</th>\n",
       "      <th>Incident</th>\n",
       "      <th>Victim Age</th>\n",
       "      <th>Victim Count</th>\n",
       "      <th>Perpetrator Count</th>\n",
       "      <th>Cal_Month</th>\n",
       "      <th>Month_Index</th>\n",
       "    </tr>\n",
       "  </thead>\n",
       "  <tbody>\n",
       "    <tr>\n",
       "      <th>0</th>\n",
       "      <td>April</td>\n",
       "      <td>1980</td>\n",
       "      <td>688313</td>\n",
       "      <td>3743</td>\n",
       "      <td>8257</td>\n",
       "      <td>20</td>\n",
       "      <td>87</td>\n",
       "      <td>Apr</td>\n",
       "      <td>4</td>\n",
       "    </tr>\n",
       "    <tr>\n",
       "      <th>1</th>\n",
       "      <td>April</td>\n",
       "      <td>1981</td>\n",
       "      <td>6561264</td>\n",
       "      <td>3199</td>\n",
       "      <td>8719</td>\n",
       "      <td>18</td>\n",
       "      <td>44</td>\n",
       "      <td>Apr</td>\n",
       "      <td>4</td>\n",
       "    </tr>\n",
       "    <tr>\n",
       "      <th>2</th>\n",
       "      <td>April</td>\n",
       "      <td>1982</td>\n",
       "      <td>11713558</td>\n",
       "      <td>3250</td>\n",
       "      <td>8019</td>\n",
       "      <td>20</td>\n",
       "      <td>57</td>\n",
       "      <td>Apr</td>\n",
       "      <td>4</td>\n",
       "    </tr>\n",
       "    <tr>\n",
       "      <th>3</th>\n",
       "      <td>April</td>\n",
       "      <td>1983</td>\n",
       "      <td>15680259</td>\n",
       "      <td>3598</td>\n",
       "      <td>8097</td>\n",
       "      <td>18</td>\n",
       "      <td>40</td>\n",
       "      <td>Apr</td>\n",
       "      <td>4</td>\n",
       "    </tr>\n",
       "    <tr>\n",
       "      <th>4</th>\n",
       "      <td>April</td>\n",
       "      <td>1984</td>\n",
       "      <td>20975823</td>\n",
       "      <td>2787</td>\n",
       "      <td>8184</td>\n",
       "      <td>24</td>\n",
       "      <td>24</td>\n",
       "      <td>Apr</td>\n",
       "      <td>4</td>\n",
       "    </tr>\n",
       "  </tbody>\n",
       "</table>\n",
       "</div>"
      ],
      "text/plain": [
       "   Month  Year  Record ID  Incident  Victim Age  Victim Count  \\\n",
       "0  April  1980     688313      3743        8257            20   \n",
       "1  April  1981    6561264      3199        8719            18   \n",
       "2  April  1982   11713558      3250        8019            20   \n",
       "3  April  1983   15680259      3598        8097            18   \n",
       "4  April  1984   20975823      2787        8184            24   \n",
       "\n",
       "   Perpetrator Count Cal_Month  Month_Index  \n",
       "0                 87       Apr            4  \n",
       "1                 44       Apr            4  \n",
       "2                 57       Apr            4  \n",
       "3                 40       Apr            4  \n",
       "4                 24       Apr            4  "
      ]
     },
     "execution_count": 210,
     "metadata": {},
     "output_type": "execute_result"
    }
   ],
   "source": [
    "df_homicide_california['Cal_Month'] = getMonthWord(df_homicide_california)\n",
    "df_homicide_california[\"Month_Index\"] = df_homicide_california[\"Cal_Month\"].map(months)\n",
    "df_homicide_california.head()"
   ]
  },
  {
   "cell_type": "code",
   "execution_count": 211,
   "metadata": {
    "collapsed": false
   },
   "outputs": [
    {
     "data": {
      "text/html": [
       "<div>\n",
       "<table border=\"1\" class=\"dataframe\">\n",
       "  <thead>\n",
       "    <tr style=\"text-align: right;\">\n",
       "      <th></th>\n",
       "      <th>full_date</th>\n",
       "      <th>Year</th>\n",
       "      <th>Cal_Month</th>\n",
       "      <th>Month_Index</th>\n",
       "      <th>Victim Count</th>\n",
       "      <th>Incident</th>\n",
       "    </tr>\n",
       "  </thead>\n",
       "  <tbody>\n",
       "    <tr>\n",
       "      <th>0</th>\n",
       "      <td>1980-04-01</td>\n",
       "      <td>1980</td>\n",
       "      <td>Apr</td>\n",
       "      <td>4</td>\n",
       "      <td>20</td>\n",
       "      <td>3743</td>\n",
       "    </tr>\n",
       "    <tr>\n",
       "      <th>1</th>\n",
       "      <td>1981-04-01</td>\n",
       "      <td>1981</td>\n",
       "      <td>Apr</td>\n",
       "      <td>4</td>\n",
       "      <td>18</td>\n",
       "      <td>3199</td>\n",
       "    </tr>\n",
       "    <tr>\n",
       "      <th>2</th>\n",
       "      <td>1982-04-01</td>\n",
       "      <td>1982</td>\n",
       "      <td>Apr</td>\n",
       "      <td>4</td>\n",
       "      <td>20</td>\n",
       "      <td>3250</td>\n",
       "    </tr>\n",
       "    <tr>\n",
       "      <th>3</th>\n",
       "      <td>1983-04-01</td>\n",
       "      <td>1983</td>\n",
       "      <td>Apr</td>\n",
       "      <td>4</td>\n",
       "      <td>18</td>\n",
       "      <td>3598</td>\n",
       "    </tr>\n",
       "    <tr>\n",
       "      <th>4</th>\n",
       "      <td>1984-04-01</td>\n",
       "      <td>1984</td>\n",
       "      <td>Apr</td>\n",
       "      <td>4</td>\n",
       "      <td>24</td>\n",
       "      <td>2787</td>\n",
       "    </tr>\n",
       "  </tbody>\n",
       "</table>\n",
       "</div>"
      ],
      "text/plain": [
       "    full_date  Year Cal_Month  Month_Index  Victim Count  Incident\n",
       "0  1980-04-01  1980       Apr            4            20      3743\n",
       "1  1981-04-01  1981       Apr            4            18      3199\n",
       "2  1982-04-01  1982       Apr            4            20      3250\n",
       "3  1983-04-01  1983       Apr            4            18      3598\n",
       "4  1984-04-01  1984       Apr            4            24      2787"
      ]
     },
     "execution_count": 211,
     "metadata": {},
     "output_type": "execute_result"
    }
   ],
   "source": [
    "df_homicide_california['Year'] = df_homicide_california.Year.astype(str).astype(int)\n",
    "df_homicide_california['Month_Index'] = df_homicide_california.Month_Index.astype(str).astype(int)\n",
    "df_homicide_california['full_date'] = datetime.date(year=1980, month=1,day=1)\n",
    "for i, row in df_homicide_california.iterrows():\n",
    "    df_homicide_california.set_value(i,'full_date',datetime.date(year=row['Year'], month=row['Month_Index'],day=1))\n",
    "    \n",
    "#trimming the data columns    \n",
    "df_homicide_california = df_homicide_california[['full_date','Year','Cal_Month','Month_Index','Victim Count','Incident']]\n",
    "df_homicide_california.head()\n",
    "\n",
    "#homicide data set in california from 1980 to 2000 grouped by date"
   ]
  },
  {
   "cell_type": "code",
   "execution_count": 212,
   "metadata": {
    "collapsed": false
   },
   "outputs": [
    {
     "name": "stderr",
     "output_type": "stream",
     "text": [
      "C:\\Users\\Rainbow\\Anaconda3\\lib\\site-packages\\ipykernel\\__main__.py:2: FutureWarning: sort(columns=....) is deprecated, use sort_values(by=.....)\n",
      "  from ipykernel import kernelapp as app\n"
     ]
    }
   ],
   "source": [
    "# sorting the dataset in ascending order on full date\n",
    "df_homicide_california.sort(columns='full_date',ascending=True,inplace=True)"
   ]
  },
  {
   "cell_type": "code",
   "execution_count": 213,
   "metadata": {
    "collapsed": false
   },
   "outputs": [
    {
     "data": {
      "text/html": [
       "<div>\n",
       "<table border=\"1\" class=\"dataframe\">\n",
       "  <thead>\n",
       "    <tr style=\"text-align: right;\">\n",
       "      <th>Year</th>\n",
       "      <th>1980</th>\n",
       "      <th>1981</th>\n",
       "      <th>1982</th>\n",
       "      <th>1983</th>\n",
       "      <th>1984</th>\n",
       "      <th>1985</th>\n",
       "      <th>1986</th>\n",
       "      <th>1987</th>\n",
       "      <th>1988</th>\n",
       "      <th>1989</th>\n",
       "      <th>...</th>\n",
       "      <th>1991</th>\n",
       "      <th>1992</th>\n",
       "      <th>1993</th>\n",
       "      <th>1994</th>\n",
       "      <th>1995</th>\n",
       "      <th>1996</th>\n",
       "      <th>1997</th>\n",
       "      <th>1998</th>\n",
       "      <th>1999</th>\n",
       "      <th>2000</th>\n",
       "    </tr>\n",
       "    <tr>\n",
       "      <th>Cal_Month</th>\n",
       "      <th></th>\n",
       "      <th></th>\n",
       "      <th></th>\n",
       "      <th></th>\n",
       "      <th></th>\n",
       "      <th></th>\n",
       "      <th></th>\n",
       "      <th></th>\n",
       "      <th></th>\n",
       "      <th></th>\n",
       "      <th></th>\n",
       "      <th></th>\n",
       "      <th></th>\n",
       "      <th></th>\n",
       "      <th></th>\n",
       "      <th></th>\n",
       "      <th></th>\n",
       "      <th></th>\n",
       "      <th></th>\n",
       "      <th></th>\n",
       "      <th></th>\n",
       "    </tr>\n",
       "  </thead>\n",
       "  <tbody>\n",
       "    <tr>\n",
       "      <th>Jan</th>\n",
       "      <td>2992</td>\n",
       "      <td>2994</td>\n",
       "      <td>3578</td>\n",
       "      <td>3864</td>\n",
       "      <td>3093</td>\n",
       "      <td>2455</td>\n",
       "      <td>2367</td>\n",
       "      <td>3075</td>\n",
       "      <td>2804</td>\n",
       "      <td>4819</td>\n",
       "      <td>...</td>\n",
       "      <td>3616</td>\n",
       "      <td>3850</td>\n",
       "      <td>5318</td>\n",
       "      <td>3099</td>\n",
       "      <td>3026</td>\n",
       "      <td>4161</td>\n",
       "      <td>1420</td>\n",
       "      <td>1224</td>\n",
       "      <td>1008</td>\n",
       "      <td>1156</td>\n",
       "    </tr>\n",
       "    <tr>\n",
       "      <th>Feb</th>\n",
       "      <td>2526</td>\n",
       "      <td>3808</td>\n",
       "      <td>1628</td>\n",
       "      <td>1867</td>\n",
       "      <td>1772</td>\n",
       "      <td>3483</td>\n",
       "      <td>2547</td>\n",
       "      <td>3062</td>\n",
       "      <td>2046</td>\n",
       "      <td>2942</td>\n",
       "      <td>...</td>\n",
       "      <td>2192</td>\n",
       "      <td>4432</td>\n",
       "      <td>3925</td>\n",
       "      <td>2891</td>\n",
       "      <td>2192</td>\n",
       "      <td>3329</td>\n",
       "      <td>1717</td>\n",
       "      <td>908</td>\n",
       "      <td>709</td>\n",
       "      <td>593</td>\n",
       "    </tr>\n",
       "    <tr>\n",
       "      <th>Mar</th>\n",
       "      <td>2346</td>\n",
       "      <td>3056</td>\n",
       "      <td>4154</td>\n",
       "      <td>2790</td>\n",
       "      <td>2139</td>\n",
       "      <td>3466</td>\n",
       "      <td>4456</td>\n",
       "      <td>3191</td>\n",
       "      <td>2671</td>\n",
       "      <td>2703</td>\n",
       "      <td>...</td>\n",
       "      <td>3426</td>\n",
       "      <td>4429</td>\n",
       "      <td>4964</td>\n",
       "      <td>3401</td>\n",
       "      <td>2721</td>\n",
       "      <td>1598</td>\n",
       "      <td>2311</td>\n",
       "      <td>1159</td>\n",
       "      <td>1020</td>\n",
       "      <td>616</td>\n",
       "    </tr>\n",
       "    <tr>\n",
       "      <th>Apr</th>\n",
       "      <td>3743</td>\n",
       "      <td>3199</td>\n",
       "      <td>3250</td>\n",
       "      <td>3598</td>\n",
       "      <td>2787</td>\n",
       "      <td>2317</td>\n",
       "      <td>2965</td>\n",
       "      <td>3888</td>\n",
       "      <td>2247</td>\n",
       "      <td>2969</td>\n",
       "      <td>...</td>\n",
       "      <td>4631</td>\n",
       "      <td>6223</td>\n",
       "      <td>4033</td>\n",
       "      <td>3398</td>\n",
       "      <td>2483</td>\n",
       "      <td>2603</td>\n",
       "      <td>1601</td>\n",
       "      <td>625</td>\n",
       "      <td>591</td>\n",
       "      <td>1324</td>\n",
       "    </tr>\n",
       "    <tr>\n",
       "      <th>May</th>\n",
       "      <td>2854</td>\n",
       "      <td>3313</td>\n",
       "      <td>3337</td>\n",
       "      <td>3969</td>\n",
       "      <td>2917</td>\n",
       "      <td>2588</td>\n",
       "      <td>2976</td>\n",
       "      <td>2685</td>\n",
       "      <td>2351</td>\n",
       "      <td>2967</td>\n",
       "      <td>...</td>\n",
       "      <td>4294</td>\n",
       "      <td>4327</td>\n",
       "      <td>5340</td>\n",
       "      <td>2992</td>\n",
       "      <td>2703</td>\n",
       "      <td>2777</td>\n",
       "      <td>1151</td>\n",
       "      <td>722</td>\n",
       "      <td>941</td>\n",
       "      <td>1758</td>\n",
       "    </tr>\n",
       "  </tbody>\n",
       "</table>\n",
       "<p>5 rows × 21 columns</p>\n",
       "</div>"
      ],
      "text/plain": [
       "Year       1980  1981  1982  1983  1984  1985  1986  1987  1988  1989  ...   \\\n",
       "Cal_Month                                                              ...    \n",
       "Jan        2992  2994  3578  3864  3093  2455  2367  3075  2804  4819  ...    \n",
       "Feb        2526  3808  1628  1867  1772  3483  2547  3062  2046  2942  ...    \n",
       "Mar        2346  3056  4154  2790  2139  3466  4456  3191  2671  2703  ...    \n",
       "Apr        3743  3199  3250  3598  2787  2317  2965  3888  2247  2969  ...    \n",
       "May        2854  3313  3337  3969  2917  2588  2976  2685  2351  2967  ...    \n",
       "\n",
       "Year       1991  1992  1993  1994  1995  1996  1997  1998  1999  2000  \n",
       "Cal_Month                                                              \n",
       "Jan        3616  3850  5318  3099  3026  4161  1420  1224  1008  1156  \n",
       "Feb        2192  4432  3925  2891  2192  3329  1717   908   709   593  \n",
       "Mar        3426  4429  4964  3401  2721  1598  2311  1159  1020   616  \n",
       "Apr        4631  6223  4033  3398  2483  2603  1601   625   591  1324  \n",
       "May        4294  4327  5340  2992  2703  2777  1151   722   941  1758  \n",
       "\n",
       "[5 rows x 21 columns]"
      ]
     },
     "execution_count": 213,
     "metadata": {},
     "output_type": "execute_result"
    }
   ],
   "source": [
    "df_homicide_california_plot = df_homicide_california.pivot(\"Cal_Month\", \"Year\", \"Incident\")\n",
    "df_homicide_california_plot = df_homicide_california_plot.ix[df_homicide_california.Cal_Month.iloc[:12]]\n",
    "df_homicide_california_plot.head()\n",
    "\n",
    "#death count in each month from 1980 to 2000"
   ]
  },
  {
   "cell_type": "code",
   "execution_count": 221,
   "metadata": {
    "collapsed": true
   },
   "outputs": [],
   "source": [
    "#writing output to csv file\n",
    "df_homicide_california_plot.to_csv(output_folder+'Homicide_california.csv', sep=',', encoding='utf-8')"
   ]
  },
  {
   "cell_type": "code",
   "execution_count": 214,
   "metadata": {
    "collapsed": false
   },
   "outputs": [
    {
     "data": {
      "image/png": "[encoded data removed]",
      "text/plain": [
       "<matplotlib.figure.Figure at 0xff81190ac8>"
      ]
     },
     "metadata": {},
     "output_type": "display_data"
    }
   ],
   "source": [
    "# Creating heat map of California homicide dataset\n",
    "fig, ax = plt.subplots(figsize=(14,6))\n",
    "sns.heatmap(df_homicide_california_plot,cbar=False,ax=ax);\n",
    "#linewidths=0.1, \n",
    "#plt.yticks(np.arange(1, len(df_climate_state_data.index), 1), df_climate_state_data.index)\n",
    "#plt.xticks(np.arange(5, len(df_climate_state_data.columns), 2), df_climate_state_data.columns)\n",
    "plt.show()\n",
    "\n",
    "# Heat map of homicide data in California from 1980 to 2000"
   ]
  },
  {
   "cell_type": "code",
   "execution_count": 215,
   "metadata": {
    "collapsed": false
   },
   "outputs": [
    {
     "data": {
      "image/png": "[encoded data removed]",
      "text/plain": [
       "<matplotlib.figure.Figure at 0xff808abba8>"
      ]
     },
     "metadata": {},
     "output_type": "display_data"
    }
   ],
   "source": [
    "# Creating heat map of California weather and temperature dataset\n",
    "fig, ax = plt.subplots(figsize=(14,6))\n",
    "sns.heatmap(df_climate_state_data,cbar=False,ax=ax)\n",
    "#linewidths=0.1, \n",
    "#plt.yticks(np.arange(1, len(df_climate_state_data.index), 1), df_climate_state_data.index)\n",
    "#plt.xticks(np.arange(5, len(df_climate_state_data.columns), 2), df_climate_state_data.columns)\n",
    "\n",
    "plt.show()\n",
    "\n",
    "# Heat map of weather and temperature in California from 1980 to 2000"
   ]
  },
  {
   "cell_type": "markdown",
   "metadata": {},
   "source": [
    "##### Note: The analysis proves the myth that whenever the temperature of a region goes high the people residing in the area starts to behave abnormally. Inorder to prevent such unfortunate events proper regulations/rules/laws should be kept in place(till 1995).\n",
    "\n",
    "From the generated graph we can infer that when the temperature in California goes high the average murder rate also shoots up. This could be probaby due to the following reasons.\n",
    "1. There are more number of people on the streets since it's unbearable to be indoors if you don't have AC.\n",
    "2. More frequent uncontrolled rage responses, when the surrounding climate is extremely high.\n",
    "3. No gun laws till 1995 in California.\n"
   ]
  },
  {
   "cell_type": "code",
   "execution_count": null,
   "metadata": {
    "collapsed": true
   },
   "outputs": [],
   "source": []
  }
 ],
 "metadata": {
  "kernelspec": {
   "display_name": "Python 3",
   "language": "python",
   "name": "python3"
  },
  "language_info": {
   "codemirror_mode": {
    "name": "ipython",
    "version": 3
   },
   "file_extension": ".py",
   "mimetype": "text/x-python",
   "name": "python",
   "nbconvert_exporter": "python",
   "pygments_lexer": "ipython3",
   "version": "3.6.0"
  }
 },
 "nbformat": 4,
 "nbformat_minor": 2
}
