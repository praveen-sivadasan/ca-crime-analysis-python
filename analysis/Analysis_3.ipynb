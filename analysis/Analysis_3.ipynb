{
 "cells": [
  {
   "cell_type": "markdown",
   "metadata": {},
   "source": [
    "#### Intial analysis shows that a lot of hate crime and less/no gun control has led to a large scale of murder rate in California during 1989 to 1993. We will further analyse the characteristics of these crime perpetuators and the circumstances that led them to these crimes."
   ]
  },
  {
   "cell_type": "code",
   "execution_count": 1,
   "metadata": {
    "collapsed": true
   },
   "outputs": [],
   "source": [
    "import pandas as pd\n",
    "import calendar as cal\n",
    "import seaborn as sns\n",
    "import matplotlib.pyplot as plt\n",
    "\n",
    "import os, operator\n",
    "import json\n",
    "from nltk.tag import pos_tag # for tree and chunks\n",
    "\n",
    "import nltk\n",
    "import requests, configparser, os, sys, json, glob\n",
    "from nltk.tag import pos_tag\n",
    "from nltk import Tree\n",
    "from nltk import ne_chunk\n",
    "from nltk.corpus import stopwords\n",
    "from datetime import datetime\n",
    "\n",
    "import numpy as np"
   ]
  },
  {
   "cell_type": "code",
   "execution_count": 2,
   "metadata": {
    "collapsed": true
   },
   "outputs": [],
   "source": [
    "state = 'California'\n",
    "parent_dir_88_93 = '../data/nytimes_data/California_88_93'\n",
    "homicide_file = '..\\data\\\\raw_data\\Analysis_1\\homicide-reports\\homicide_db.csv'\n",
    "years_for_analysis = [1988,1989,1990,1991,1992,1993]\n",
    "output_folder = \"..\\data\\\\processed\\Analysis_3\\\\\""
   ]
  },
  {
   "cell_type": "code",
   "execution_count": 3,
   "metadata": {
    "collapsed": false
   },
   "outputs": [
    {
     "name": "stderr",
     "output_type": "stream",
     "text": [
      "C:\\Users\\Rainbow\\Anaconda3\\lib\\site-packages\\IPython\\core\\interactiveshell.py:2717: DtypeWarning: Columns (16) have mixed types. Specify dtype option on import or set low_memory=False.\n",
      "  interactivity=interactivity, compiler=compiler, result=result)\n"
     ]
    },
    {
     "data": {
      "text/plain": [
       "Index(['Record ID', 'Agency Code', 'Agency Name', 'Agency Type', 'City',\n",
       "       'State', 'Year', 'Month', 'Incident', 'Crime Type', 'Crime Solved',\n",
       "       'Victim Sex', 'Victim Age', 'Victim Race', 'Victim Ethnicity',\n",
       "       'Perpetrator Sex', 'Perpetrator Age', 'Perpetrator Race',\n",
       "       'Perpetrator Ethnicity', 'Relationship', 'Weapon', 'Victim Count',\n",
       "       'Perpetrator Count', 'Record Source', 'count'],\n",
       "      dtype='object')"
      ]
     },
     "execution_count": 3,
     "metadata": {},
     "output_type": "execute_result"
    }
   ],
   "source": [
    "#reading csv file\n",
    "df_homicide = pd.read_csv(homicide_file)\n",
    "df_homicide['count'] = 1\n",
    "df_homicide.columns\n"
   ]
  },
  {
   "cell_type": "code",
   "execution_count": 4,
   "metadata": {
    "collapsed": false
   },
   "outputs": [],
   "source": [
    "df_homicide_california = df_homicide[df_homicide['State']==state]\n",
    "df_homicide_california = df_homicide_california[df_homicide_california['Year'].isin(years_for_analysis)]\n",
    "#df_homicide_california.head()"
   ]
  },
  {
   "cell_type": "markdown",
   "metadata": {},
   "source": [
    "#### Identifying the perpetrators by age group."
   ]
  },
  {
   "cell_type": "code",
   "execution_count": 5,
   "metadata": {
    "collapsed": false
   },
   "outputs": [
    {
     "name": "stderr",
     "output_type": "stream",
     "text": [
      "C:\\Users\\Rainbow\\Anaconda3\\lib\\site-packages\\ipykernel\\__main__.py:4: FutureWarning: sort(columns=....) is deprecated, use sort_values(by=.....)\n",
      "C:\\Users\\Rainbow\\Anaconda3\\lib\\site-packages\\ipykernel\\__main__.py:7: FutureWarning: sort(columns=....) is deprecated, use sort_values(by=.....)\n"
     ]
    },
    {
     "data": {
      "text/html": [
       "<div>\n",
       "<table border=\"1\" class=\"dataframe\">\n",
       "  <thead>\n",
       "    <tr style=\"text-align: right;\">\n",
       "      <th></th>\n",
       "      <th>Perpetrator Age</th>\n",
       "      <th>Victim Count</th>\n",
       "      <th>count</th>\n",
       "    </tr>\n",
       "  </thead>\n",
       "  <tbody>\n",
       "    <tr>\n",
       "      <th>26</th>\n",
       "      <td>26</td>\n",
       "      <td>1757</td>\n",
       "      <td>14347</td>\n",
       "    </tr>\n",
       "    <tr>\n",
       "      <th>25</th>\n",
       "      <td>25</td>\n",
       "      <td>2329</td>\n",
       "      <td>17157</td>\n",
       "    </tr>\n",
       "    <tr>\n",
       "      <th>24</th>\n",
       "      <td>24</td>\n",
       "      <td>1871</td>\n",
       "      <td>15964</td>\n",
       "    </tr>\n",
       "    <tr>\n",
       "      <th>23</th>\n",
       "      <td>23</td>\n",
       "      <td>2448</td>\n",
       "      <td>17168</td>\n",
       "    </tr>\n",
       "    <tr>\n",
       "      <th>22</th>\n",
       "      <td>22</td>\n",
       "      <td>2081</td>\n",
       "      <td>17977</td>\n",
       "    </tr>\n",
       "    <tr>\n",
       "      <th>21</th>\n",
       "      <td>21</td>\n",
       "      <td>1954</td>\n",
       "      <td>18509</td>\n",
       "    </tr>\n",
       "    <tr>\n",
       "      <th>20</th>\n",
       "      <td>20</td>\n",
       "      <td>2508</td>\n",
       "      <td>21158</td>\n",
       "    </tr>\n",
       "    <tr>\n",
       "      <th>19</th>\n",
       "      <td>19</td>\n",
       "      <td>2140</td>\n",
       "      <td>19807</td>\n",
       "    </tr>\n",
       "    <tr>\n",
       "      <th>18</th>\n",
       "      <td>18</td>\n",
       "      <td>1727</td>\n",
       "      <td>18477</td>\n",
       "    </tr>\n",
       "    <tr>\n",
       "      <th>17</th>\n",
       "      <td>17</td>\n",
       "      <td>1376</td>\n",
       "      <td>13945</td>\n",
       "    </tr>\n",
       "  </tbody>\n",
       "</table>\n",
       "</div>"
      ],
      "text/plain": [
       "   Perpetrator Age  Victim Count  count\n",
       "26              26          1757  14347\n",
       "25              25          2329  17157\n",
       "24              24          1871  15964\n",
       "23              23          2448  17168\n",
       "22              22          2081  17977\n",
       "21              21          1954  18509\n",
       "20              20          2508  21158\n",
       "19              19          2140  19807\n",
       "18              18          1727  18477\n",
       "17              17          1376  13945"
      ]
     },
     "execution_count": 5,
     "metadata": {},
     "output_type": "execute_result"
    }
   ],
   "source": [
    "df_homicide_california_age = df_homicide.groupby('Perpetrator Age').sum()\n",
    "df_homicide_california_age = df_homicide_california_age.reset_index()\n",
    "df_homicide_california_age = df_homicide_california_age[['Perpetrator Age','Victim Count','count']]\n",
    "df_homicide_california_age.sort(ascending=False,columns='count',inplace=True)\n",
    "df_homicide_california_age.drop(df_homicide_california_age.index[[0]],inplace=True)\n",
    "df_homicide_california_age = df_homicide_california_age[:10]\n",
    "df_homicide_california_age.sort(ascending=False,columns='Perpetrator Age',inplace=True)\n",
    "df_homicide_california_age"
   ]
  },
  {
   "cell_type": "code",
   "execution_count": 6,
   "metadata": {
    "collapsed": false
   },
   "outputs": [
    {
     "data": {
      "image/png": "[encoded data removed]",
      "text/plain": [
       "<matplotlib.figure.Figure at 0x9b96d2cda0>"
      ]
     },
     "metadata": {},
     "output_type": "display_data"
    }
   ],
   "source": [
    "#plotting a bar chart to identify the top the crime perpetuator age\n",
    "\n",
    "sns.set(style=\"ticks\")\n",
    "clrs = ['grey' ]# if (x < max(values)) else 'red' for x in values\n",
    "\n",
    "# This Function takes as input a custom palette\n",
    "g = sns.barplot(x=\"Perpetrator Age\", y='count',data=df_homicide_california_age,palette=clrs)\n",
    "\n",
    "# remove the top and right line in graph\n",
    "sns.despine()\n",
    "\n",
    "# Set the size of the graph from here\n",
    "g.figure.set_size_inches(14,6)\n",
    "\n",
    "# Set the ticklabel size and color of the graph from here\n",
    "g.tick_params(labelcolor=\"black\")\n",
    "plt.show()"
   ]
  },
  {
   "cell_type": "markdown",
   "metadata": {},
   "source": [
    "##### Note: The above analysis shows that most of the crimes where done by people around the age of 20. "
   ]
  },
  {
   "cell_type": "code",
   "execution_count": 7,
   "metadata": {
    "collapsed": true
   },
   "outputs": [],
   "source": [
    "#writing output to csv file\n",
    "df_homicide_california_age.to_csv(output_folder+'Crime_perpetrator_Cali_1988.csv', sep=',', encoding='utf-8')"
   ]
  },
  {
   "cell_type": "markdown",
   "metadata": {},
   "source": [
    "#### Identifying the sex of top 3 age groups."
   ]
  },
  {
   "cell_type": "code",
   "execution_count": 8,
   "metadata": {
    "collapsed": false
   },
   "outputs": [
    {
     "name": "stderr",
     "output_type": "stream",
     "text": [
      "C:\\Users\\Rainbow\\Anaconda3\\lib\\site-packages\\ipykernel\\__main__.py:4: FutureWarning: sort(columns=....) is deprecated, use sort_values(by=.....)\n"
     ]
    },
    {
     "data": {
      "text/html": [
       "<div>\n",
       "<table border=\"1\" class=\"dataframe\">\n",
       "  <thead>\n",
       "    <tr style=\"text-align: right;\">\n",
       "      <th></th>\n",
       "      <th>Perpetrator Sex</th>\n",
       "      <th>Victim Count</th>\n",
       "      <th>count</th>\n",
       "    </tr>\n",
       "  </thead>\n",
       "  <tbody>\n",
       "    <tr>\n",
       "      <th>1</th>\n",
       "      <td>Male</td>\n",
       "      <td>55318</td>\n",
       "      <td>399541</td>\n",
       "    </tr>\n",
       "    <tr>\n",
       "      <th>2</th>\n",
       "      <td>Unknown</td>\n",
       "      <td>19483</td>\n",
       "      <td>190365</td>\n",
       "    </tr>\n",
       "    <tr>\n",
       "      <th>0</th>\n",
       "      <td>Female</td>\n",
       "      <td>3942</td>\n",
       "      <td>48548</td>\n",
       "    </tr>\n",
       "  </tbody>\n",
       "</table>\n",
       "</div>"
      ],
      "text/plain": [
       "  Perpetrator Sex  Victim Count   count\n",
       "1            Male         55318  399541\n",
       "2         Unknown         19483  190365\n",
       "0          Female          3942   48548"
      ]
     },
     "execution_count": 8,
     "metadata": {},
     "output_type": "execute_result"
    }
   ],
   "source": [
    "df_homicide_california_perp_sex = df_homicide.groupby('Perpetrator Sex').sum()\n",
    "df_homicide_california_perp_sex = df_homicide_california_perp_sex.reset_index()\n",
    "df_homicide_california_perp_sex = df_homicide_california_perp_sex[['Perpetrator Sex','Victim Count','count']]\n",
    "df_homicide_california_perp_sex.sort(ascending=False,columns='count',inplace=True)\n",
    "df_homicide_california_perp_sex\n"
   ]
  },
  {
   "cell_type": "code",
   "execution_count": 9,
   "metadata": {
    "collapsed": false
   },
   "outputs": [
    {
     "data": {
      "image/png": "[encoded data removed]",
      "text/plain": [
       "<matplotlib.figure.Figure at 0x9b9a33aef0>"
      ]
     },
     "metadata": {},
     "output_type": "display_data"
    }
   ],
   "source": [
    "#plot the pie chart \n",
    "\n",
    "ax1 = plt.subplot(121, aspect='equal')\n",
    "df_homicide_california_perp_sex.plot(kind='pie', y = 'count', ax=ax1, autopct='%1.1f%%', \n",
    " startangle=90, shadow=True, labels=df_homicide_california_perp_sex['Perpetrator Sex'], legend = False, fontsize=12,\n",
    "                                     figsize=(16, 16),)\n",
    "ax1.set_ylabel('')\n",
    "plt.show()"
   ]
  },
  {
   "cell_type": "markdown",
   "metadata": {},
   "source": [
    "##### Note: Analysis shows that most crimes were commited by guys in the age of 20's in Calfiornia during 1990's."
   ]
  },
  {
   "cell_type": "code",
   "execution_count": 10,
   "metadata": {
    "collapsed": true
   },
   "outputs": [],
   "source": [
    "#writing output to csv file\n",
    "df_homicide_california_perp_sex.to_csv(output_folder+'Crime_perpetrator_Cali_sex_1988.csv', sep=',', encoding='utf-8')"
   ]
  },
  {
   "cell_type": "markdown",
   "metadata": {},
   "source": [
    "#### Identifying the race of people arrested in 1990's at 20's"
   ]
  },
  {
   "cell_type": "code",
   "execution_count": 11,
   "metadata": {
    "collapsed": false
   },
   "outputs": [
    {
     "data": {
      "text/html": [
       "<div>\n",
       "<table border=\"1\" class=\"dataframe\">\n",
       "  <thead>\n",
       "    <tr style=\"text-align: right;\">\n",
       "      <th></th>\n",
       "      <th>Perpetrator Race</th>\n",
       "      <th>Record ID</th>\n",
       "      <th>Year</th>\n",
       "      <th>Incident</th>\n",
       "      <th>Victim Age</th>\n",
       "      <th>Victim Count</th>\n",
       "      <th>Perpetrator Count</th>\n",
       "      <th>count</th>\n",
       "    </tr>\n",
       "  </thead>\n",
       "  <tbody>\n",
       "    <tr>\n",
       "      <th>0</th>\n",
       "      <td>Asian/Pacific Islander</td>\n",
       "      <td>70492253</td>\n",
       "      <td>462813</td>\n",
       "      <td>2927</td>\n",
       "      <td>7192</td>\n",
       "      <td>122</td>\n",
       "      <td>139</td>\n",
       "      <td>232</td>\n",
       "    </tr>\n",
       "    <tr>\n",
       "      <th>1</th>\n",
       "      <td>Black</td>\n",
       "      <td>3706636085</td>\n",
       "      <td>22055954</td>\n",
       "      <td>286579</td>\n",
       "      <td>318745</td>\n",
       "      <td>998</td>\n",
       "      <td>4675</td>\n",
       "      <td>11047</td>\n",
       "    </tr>\n",
       "    <tr>\n",
       "      <th>2</th>\n",
       "      <td>Native American/Alaska Native</td>\n",
       "      <td>42908139</td>\n",
       "      <td>267427</td>\n",
       "      <td>887</td>\n",
       "      <td>3890</td>\n",
       "      <td>16</td>\n",
       "      <td>47</td>\n",
       "      <td>134</td>\n",
       "    </tr>\n",
       "    <tr>\n",
       "      <th>3</th>\n",
       "      <td>Unknown</td>\n",
       "      <td>47535333</td>\n",
       "      <td>295424</td>\n",
       "      <td>3095</td>\n",
       "      <td>5236</td>\n",
       "      <td>18</td>\n",
       "      <td>92</td>\n",
       "      <td>148</td>\n",
       "    </tr>\n",
       "    <tr>\n",
       "      <th>4</th>\n",
       "      <td>White</td>\n",
       "      <td>2472971419</td>\n",
       "      <td>15874624</td>\n",
       "      <td>152711</td>\n",
       "      <td>237394</td>\n",
       "      <td>1196</td>\n",
       "      <td>2959</td>\n",
       "      <td>7956</td>\n",
       "    </tr>\n",
       "  </tbody>\n",
       "</table>\n",
       "</div>"
      ],
      "text/plain": [
       "                Perpetrator Race   Record ID      Year  Incident  Victim Age  \\\n",
       "0         Asian/Pacific Islander    70492253    462813      2927        7192   \n",
       "1                          Black  3706636085  22055954    286579      318745   \n",
       "2  Native American/Alaska Native    42908139    267427       887        3890   \n",
       "3                        Unknown    47535333    295424      3095        5236   \n",
       "4                          White  2472971419  15874624    152711      237394   \n",
       "\n",
       "   Victim Count  Perpetrator Count  count  \n",
       "0           122                139    232  \n",
       "1           998               4675  11047  \n",
       "2            16                 47    134  \n",
       "3            18                 92    148  \n",
       "4          1196               2959   7956  "
      ]
     },
     "execution_count": 11,
     "metadata": {},
     "output_type": "execute_result"
    }
   ],
   "source": [
    "#writing output to csv file\n",
    "df_homicide_california_crime.to_csv(output_folder+'Crime_type_Cali.csv', sep=',', encoding='utf-8')df_homicide_20s = df_homicide[df_homicide['Perpetrator Age'] == 20]\n",
    "df_homicide_20s = df_homicide_20s[df_homicide_20s['Perpetrator Sex'] == 'Male']\n",
    "\n",
    "df_homicide_california_perp_race20 = df_homicide_20s.groupby(['Perpetrator Race']).sum()\n",
    "df_homicide_california_perp_race20 = df_homicide_california_perp_race20.reset_index()\n",
    "df_homicide_california_perp_race20\n"
   ]
  },
  {
   "cell_type": "code",
   "execution_count": 12,
   "metadata": {
    "collapsed": false
   },
   "outputs": [
    {
     "data": {
      "image/png": "[encoded data removed]",
      "text/plain": [
       "<matplotlib.figure.Figure at 0x9b99ee8048>"
      ]
     },
     "metadata": {},
     "output_type": "display_data"
    }
   ],
   "source": [
    "#plot a simple line chart to represent the various perpetrator races and their murder count \n",
    "\n",
    "#df_subject_dirs_sorted_violence['Word'] = df_subject_dirs_sorted_violence['Word'].str.split().str.get(0)\n",
    "df_homicide_california_perp_race20.plot(x='Perpetrator Race', y='count', marker='.',figsize=(14, 5))\n",
    "plt.show()"
   ]
  },
  {
   "cell_type": "markdown",
   "metadata": {},
   "source": [
    "##### Note: Analysis indicates that most number of people who committed crime in the age of 20's where BLACK."
   ]
  },
  {
   "cell_type": "code",
   "execution_count": 13,
   "metadata": {
    "collapsed": true
   },
   "outputs": [],
   "source": [
    "#writing output to csv file\n",
    "df_homicide_california_perp_race20.to_csv(output_folder+'Cali_crime_perpetrator_race_1988.csv', sep=',', encoding='utf-8')"
   ]
  },
  {
   "cell_type": "code",
   "execution_count": 14,
   "metadata": {
    "collapsed": false
   },
   "outputs": [
    {
     "data": {
      "text/html": [
       "<div>\n",
       "<table border=\"1\" class=\"dataframe\">\n",
       "  <thead>\n",
       "    <tr style=\"text-align: right;\">\n",
       "      <th></th>\n",
       "      <th>Perpetrator Race</th>\n",
       "      <th>Victim Race</th>\n",
       "      <th>Record ID</th>\n",
       "      <th>Year</th>\n",
       "      <th>Incident</th>\n",
       "      <th>Victim Age</th>\n",
       "      <th>Victim Count</th>\n",
       "      <th>Perpetrator Count</th>\n",
       "      <th>count</th>\n",
       "    </tr>\n",
       "  </thead>\n",
       "  <tbody>\n",
       "    <tr>\n",
       "      <th>0</th>\n",
       "      <td>Black</td>\n",
       "      <td>Asian/Pacific Islander</td>\n",
       "      <td>31833059</td>\n",
       "      <td>167901</td>\n",
       "      <td>2166</td>\n",
       "      <td>3314</td>\n",
       "      <td>10</td>\n",
       "      <td>53</td>\n",
       "      <td>84</td>\n",
       "    </tr>\n",
       "    <tr>\n",
       "      <th>1</th>\n",
       "      <td>Black</td>\n",
       "      <td>Black</td>\n",
       "      <td>2985211732</td>\n",
       "      <td>17769252</td>\n",
       "      <td>220508</td>\n",
       "      <td>238018</td>\n",
       "      <td>779</td>\n",
       "      <td>3399</td>\n",
       "      <td>8900</td>\n",
       "    </tr>\n",
       "    <tr>\n",
       "      <th>2</th>\n",
       "      <td>Black</td>\n",
       "      <td>Native American/Alaska Native</td>\n",
       "      <td>5812033</td>\n",
       "      <td>35925</td>\n",
       "      <td>52</td>\n",
       "      <td>450</td>\n",
       "      <td>5</td>\n",
       "      <td>20</td>\n",
       "      <td>18</td>\n",
       "    </tr>\n",
       "    <tr>\n",
       "      <th>3</th>\n",
       "      <td>Black</td>\n",
       "      <td>Unknown</td>\n",
       "      <td>25439317</td>\n",
       "      <td>118107</td>\n",
       "      <td>937</td>\n",
       "      <td>6002</td>\n",
       "      <td>9</td>\n",
       "      <td>39</td>\n",
       "      <td>59</td>\n",
       "    </tr>\n",
       "    <tr>\n",
       "      <th>4</th>\n",
       "      <td>Black</td>\n",
       "      <td>White</td>\n",
       "      <td>658339944</td>\n",
       "      <td>3964769</td>\n",
       "      <td>62916</td>\n",
       "      <td>70961</td>\n",
       "      <td>195</td>\n",
       "      <td>1164</td>\n",
       "      <td>1986</td>\n",
       "    </tr>\n",
       "  </tbody>\n",
       "</table>\n",
       "</div>"
      ],
      "text/plain": [
       "  Perpetrator Race                    Victim Race   Record ID      Year  \\\n",
       "0            Black         Asian/Pacific Islander    31833059    167901   \n",
       "1            Black                          Black  2985211732  17769252   \n",
       "2            Black  Native American/Alaska Native     5812033     35925   \n",
       "3            Black                        Unknown    25439317    118107   \n",
       "4            Black                          White   658339944   3964769   \n",
       "\n",
       "   Incident  Victim Age  Victim Count  Perpetrator Count  count  \n",
       "0      2166        3314            10                 53     84  \n",
       "1    220508      238018           779               3399   8900  \n",
       "2        52         450             5                 20     18  \n",
       "3       937        6002             9                 39     59  \n",
       "4     62916       70961           195               1164   1986  "
      ]
     },
     "execution_count": 14,
     "metadata": {},
     "output_type": "execute_result"
    }
   ],
   "source": [
    "# Grouping the data set by victim race where perpetrator in BLACK\n",
    "\n",
    "df_homicide_20s_blk = df_homicide[df_homicide['Perpetrator Age'] == 20]\n",
    "df_homicide_20s_blk = df_homicide_20s_blk[df_homicide_20s_blk['Perpetrator Sex'] == 'Male']\n",
    "df_homicide_20s_blk = df_homicide_20s_blk[df_homicide_20s_blk['Perpetrator Race'] == 'Black']\n",
    "\n",
    "df_homicide_20s_blk_murder = df_homicide_20s_blk.groupby(['Perpetrator Race','Victim Race']).sum()\n",
    "df_homicide_20s_blk_murder = df_homicide_20s_blk_murder.reset_index()\n",
    "df_homicide_20s_blk_murder"
   ]
  },
  {
   "cell_type": "code",
   "execution_count": 15,
   "metadata": {
    "collapsed": false
   },
   "outputs": [
    {
     "data": {
      "image/png": "[encoded data removed]",
      "text/plain": [
       "<matplotlib.figure.Figure at 0x9b9a3ccbe0>"
      ]
     },
     "metadata": {},
     "output_type": "display_data"
    }
   ],
   "source": [
    "#plot a multiple histogram to represent the various perpetrator races and their murder count \n",
    "\n",
    "sns.set(style=\"darkgrid\")\n",
    "g = sns.FacetGrid(df_homicide_20s_blk_murder, row='Perpetrator Race', col=\"Victim Race\", margin_titles=True)\n",
    "bins = np.linspace(0, 1000, 100)\n",
    "g.map(plt.hist, \"Victim Count\", color=\"steelblue\", bins=bins, lw=0)\n",
    "\n",
    "plt.show()"
   ]
  },
  {
   "cell_type": "markdown",
   "metadata": {},
   "source": [
    "##### Note: The above graph depicts the number of people of other races murdered by black people. The x-axis indicates the number of people murdered and each graph represents the various race targeted by black people."
   ]
  },
  {
   "cell_type": "code",
   "execution_count": 16,
   "metadata": {
    "collapsed": true
   },
   "outputs": [],
   "source": [
    "#writing output to csv file\n",
    "df_homicide_20s_blk_murder.to_csv(output_folder+'Race_wars_Cali_1988.csv', sep=',', encoding='utf-8')"
   ]
  },
  {
   "cell_type": "code",
   "execution_count": null,
   "metadata": {
    "collapsed": true
   },
   "outputs": [],
   "source": []
  }
 ],
 "metadata": {
  "kernelspec": {
   "display_name": "Python 3",
   "language": "python",
   "name": "python3"
  },
  "language_info": {
   "codemirror_mode": {
    "name": "ipython",
    "version": 3
   },
   "file_extension": ".py",
   "mimetype": "text/x-python",
   "name": "python",
   "nbconvert_exporter": "python",
   "pygments_lexer": "ipython3",
   "version": "3.6.0"
  }
 },
 "nbformat": 4,
 "nbformat_minor": 2
}
