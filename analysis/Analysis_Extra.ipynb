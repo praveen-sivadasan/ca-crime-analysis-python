{
 "cells": [
  {
   "cell_type": "markdown",
   "metadata": {
    "collapsed": true
   },
   "source": [
    "#### Analysing the reason why death rate plummed tremendously after 1995 in California."
   ]
  },
  {
   "cell_type": "code",
   "execution_count": 212,
   "metadata": {
    "collapsed": true
   },
   "outputs": [],
   "source": [
    "import pandas as pd\n",
    "import calendar as cal\n",
    "import seaborn as sns\n",
    "import matplotlib.pyplot as plt\n",
    "\n",
    "import os, operator\n",
    "import json\n",
    "from nltk.tag import pos_tag # for tree and chunks\n",
    "\n",
    "import nltk\n",
    "import requests, configparser, os, sys, json, glob\n",
    "from nltk.tag import pos_tag\n",
    "from nltk import Tree\n",
    "from nltk import ne_chunk\n",
    "from nltk.corpus import stopwords\n",
    "from datetime import datetime\n",
    "\n",
    "import numpy as np"
   ]
  },
  {
   "cell_type": "code",
   "execution_count": 213,
   "metadata": {
    "collapsed": true
   },
   "outputs": [],
   "source": [
    "state = 'California'\n",
    "parent_dir_95_20 = '../data/nytimes_data/California_95_20s'\n",
    "parent_dir_88_93 = '../data/nytimes_data/California_88_93'\n",
    "homicide_file = '..\\data\\\\raw_data\\Analysis_1\\homicide-reports\\homicide_db.csv'\n",
    "output_folder = \"..\\data\\\\processed\\Analysis_4\\\\\"\n",
    "years_for_analysis_95 = [1995,1996,1997,1998,1999,2000]\n",
    "years_for_analysis_88 = [1988,1989,1990,1991,1992,1993]\n",
    "subject_dirs_95_20 = [os.path.join(parent_dir_95_20, dir) for dir in os.listdir(parent_dir_95_20) if os.path.isdir(os.path.join(parent_dir_95_20, dir))]\n",
    "subject_dirs_88_93 = [os.path.join(parent_dir_88_93, dir) for dir in os.listdir(parent_dir_88_93) if os.path.isdir(os.path.join(parent_dir_88_93, dir))]"
   ]
  },
  {
   "cell_type": "code",
   "execution_count": 214,
   "metadata": {
    "collapsed": false
   },
   "outputs": [
    {
     "name": "stderr",
     "output_type": "stream",
     "text": [
      "C:\\Users\\Rainbow\\Anaconda3\\lib\\site-packages\\IPython\\core\\interactiveshell.py:2717: DtypeWarning: Columns (16) have mixed types. Specify dtype option on import or set low_memory=False.\n",
      "  interactivity=interactivity, compiler=compiler, result=result)\n"
     ]
    },
    {
     "data": {
      "text/plain": [
       "Index(['Record ID', 'Agency Code', 'Agency Name', 'Agency Type', 'City',\n",
       "       'State', 'Year', 'Month', 'Incident', 'Crime Type', 'Crime Solved',\n",
       "       'Victim Sex', 'Victim Age', 'Victim Race', 'Victim Ethnicity',\n",
       "       'Perpetrator Sex', 'Perpetrator Age', 'Perpetrator Race',\n",
       "       'Perpetrator Ethnicity', 'Relationship', 'Weapon', 'Victim Count',\n",
       "       'Perpetrator Count', 'Record Source', 'count'],\n",
       "      dtype='object')"
      ]
     },
     "execution_count": 214,
     "metadata": {},
     "output_type": "execute_result"
    }
   ],
   "source": [
    "#reading homicide csv file\n",
    "df_homicide = pd.read_csv(homicide_file)\n",
    "df_homicide['count'] = 1\n",
    "df_homicide.columns"
   ]
  },
  {
   "cell_type": "code",
   "execution_count": 215,
   "metadata": {
    "collapsed": false
   },
   "outputs": [],
   "source": [
    "#homicide data during 88\n",
    "df_homicide_california_88 = df_homicide[df_homicide['State']==state]\n",
    "df_homicide_california_88 = df_homicide_california_88[df_homicide_california_88['Year'].isin(years_for_analysis_88)]"
   ]
  },
  {
   "cell_type": "code",
   "execution_count": 216,
   "metadata": {
    "collapsed": true
   },
   "outputs": [],
   "source": [
    "#homicide data during 95\n",
    "df_homicide_california_95 = df_homicide[df_homicide['State']==state]\n",
    "df_homicide_california_95 = df_homicide_california_95[df_homicide_california_95['Year'].isin(years_for_analysis_95)]"
   ]
  },
  {
   "cell_type": "markdown",
   "metadata": {},
   "source": [
    "#### Identifying the perpetrators by age group."
   ]
  },
  {
   "cell_type": "code",
   "execution_count": 217,
   "metadata": {
    "collapsed": false
   },
   "outputs": [
    {
     "name": "stderr",
     "output_type": "stream",
     "text": [
      "C:\\Users\\Rainbow\\Anaconda3\\lib\\site-packages\\ipykernel\\__main__.py:6: FutureWarning: sort(columns=....) is deprecated, use sort_values(by=.....)\n",
      "C:\\Users\\Rainbow\\Anaconda3\\lib\\site-packages\\ipykernel\\__main__.py:9: FutureWarning: sort(columns=....) is deprecated, use sort_values(by=.....)\n"
     ]
    }
   ],
   "source": [
    "#perpetrators during 88 \n",
    "\n",
    "df_homicide_california_88_age = df_homicide_california_88.groupby('Perpetrator Age').sum()\n",
    "df_homicide_california_88_age = df_homicide_california_88_age.reset_index()\n",
    "df_homicide_california_88_age = df_homicide_california_88_age[['Perpetrator Age','Victim Count','count']]\n",
    "df_homicide_california_88_age.sort(ascending=False,columns='count',inplace=True)\n",
    "df_homicide_california_88_age = df_homicide_california_88_age[df_homicide_california_88_age['Perpetrator Age'] != 0]\n",
    "df_homicide_california_88_age = df_homicide_california_88_age#[:10]\n",
    "df_homicide_california_88_age.sort(ascending=False,columns='Perpetrator Age',inplace=True)\n",
    "df_homicide_california_88_age.rename(columns={'count': 'Total_Murder_1988_93'}, inplace=True)\n",
    "df_homicide_california_88_age = df_homicide_california_88_age[['Perpetrator Age','Total_Murder_1988_93']]"
   ]
  },
  {
   "cell_type": "code",
   "execution_count": 218,
   "metadata": {
    "collapsed": false
   },
   "outputs": [
    {
     "name": "stderr",
     "output_type": "stream",
     "text": [
      "C:\\Users\\Rainbow\\Anaconda3\\lib\\site-packages\\ipykernel\\__main__.py:6: FutureWarning: sort(columns=....) is deprecated, use sort_values(by=.....)\n",
      "C:\\Users\\Rainbow\\Anaconda3\\lib\\site-packages\\ipykernel\\__main__.py:9: FutureWarning: sort(columns=....) is deprecated, use sort_values(by=.....)\n"
     ]
    }
   ],
   "source": [
    "#perpetrators during 95\n",
    "\n",
    "df_homicide_california_95_age = df_homicide_california_95.groupby('Perpetrator Age').sum()\n",
    "df_homicide_california_95_age = df_homicide_california_95_age.reset_index()\n",
    "df_homicide_california_95_age = df_homicide_california_95_age[['Perpetrator Age','Victim Count','count']]\n",
    "df_homicide_california_95_age.sort(ascending=False,columns='count',inplace=True)\n",
    "df_homicide_california_95_age = df_homicide_california_95_age[df_homicide_california_95_age['Perpetrator Age'] != 0]\n",
    "df_homicide_california_95_age = df_homicide_california_95_age#[:10]\n",
    "df_homicide_california_95_age.sort(ascending=False,columns='Perpetrator Age',inplace=True)\n",
    "df_homicide_california_95_age.rename(columns={'count': 'Total_Murder_1995_00'}, inplace=True)\n",
    "df_homicide_california_95_age = df_homicide_california_95_age[['Perpetrator Age','Total_Murder_1995_00']]"
   ]
  },
  {
   "cell_type": "code",
   "execution_count": 219,
   "metadata": {
    "collapsed": false
   },
   "outputs": [
    {
     "name": "stderr",
     "output_type": "stream",
     "text": [
      "C:\\Users\\Rainbow\\Anaconda3\\lib\\site-packages\\ipykernel\\__main__.py:3: FutureWarning: sort(columns=....) is deprecated, use sort_values(by=.....)\n",
      "  app.launch_new_instance()\n"
     ]
    },
    {
     "data": {
      "text/html": [
       "<div>\n",
       "<table border=\"1\" class=\"dataframe\">\n",
       "  <thead>\n",
       "    <tr style=\"text-align: right;\">\n",
       "      <th></th>\n",
       "      <th>Perpetrator Age</th>\n",
       "      <th>Total_Murder_1988_93</th>\n",
       "      <th>Total_Murder_1995_00</th>\n",
       "    </tr>\n",
       "  </thead>\n",
       "  <tbody>\n",
       "    <tr>\n",
       "      <th>72</th>\n",
       "      <td>18</td>\n",
       "      <td>828</td>\n",
       "      <td>569</td>\n",
       "    </tr>\n",
       "    <tr>\n",
       "      <th>71</th>\n",
       "      <td>19</td>\n",
       "      <td>823</td>\n",
       "      <td>573</td>\n",
       "    </tr>\n",
       "    <tr>\n",
       "      <th>70</th>\n",
       "      <td>20</td>\n",
       "      <td>817</td>\n",
       "      <td>704</td>\n",
       "    </tr>\n",
       "    <tr>\n",
       "      <th>65</th>\n",
       "      <td>25</td>\n",
       "      <td>703</td>\n",
       "      <td>402</td>\n",
       "    </tr>\n",
       "    <tr>\n",
       "      <th>69</th>\n",
       "      <td>21</td>\n",
       "      <td>686</td>\n",
       "      <td>455</td>\n",
       "    </tr>\n",
       "    <tr>\n",
       "      <th>68</th>\n",
       "      <td>22</td>\n",
       "      <td>669</td>\n",
       "      <td>418</td>\n",
       "    </tr>\n",
       "    <tr>\n",
       "      <th>73</th>\n",
       "      <td>17</td>\n",
       "      <td>650</td>\n",
       "      <td>432</td>\n",
       "    </tr>\n",
       "    <tr>\n",
       "      <th>67</th>\n",
       "      <td>23</td>\n",
       "      <td>578</td>\n",
       "      <td>397</td>\n",
       "    </tr>\n",
       "    <tr>\n",
       "      <th>66</th>\n",
       "      <td>24</td>\n",
       "      <td>555</td>\n",
       "      <td>353</td>\n",
       "    </tr>\n",
       "    <tr>\n",
       "      <th>60</th>\n",
       "      <td>30</td>\n",
       "      <td>544</td>\n",
       "      <td>283</td>\n",
       "    </tr>\n",
       "  </tbody>\n",
       "</table>\n",
       "</div>"
      ],
      "text/plain": [
       "    Perpetrator Age  Total_Murder_1988_93  Total_Murder_1995_00\n",
       "72               18                   828                   569\n",
       "71               19                   823                   573\n",
       "70               20                   817                   704\n",
       "65               25                   703                   402\n",
       "69               21                   686                   455\n",
       "68               22                   669                   418\n",
       "73               17                   650                   432\n",
       "67               23                   578                   397\n",
       "66               24                   555                   353\n",
       "60               30                   544                   283"
      ]
     },
     "execution_count": 219,
     "metadata": {},
     "output_type": "execute_result"
    }
   ],
   "source": [
    "#merging to dataframes\n",
    "df_homicide_california_merged_age = pd.merge(df_homicide_california_88_age,df_homicide_california_95_age, on=['Perpetrator Age'])\n",
    "df_homicide_california_merged_age.sort(ascending=False,columns=\"Total_Murder_1988_93\",inplace=True)\n",
    "df_homicide_california_merged_age = df_homicide_california_merged_age[:10]\n",
    "df_homicide_california_merged_age"
   ]
  },
  {
   "cell_type": "code",
   "execution_count": 220,
   "metadata": {
    "collapsed": false
   },
   "outputs": [],
   "source": [
    "df_homicide_california_merged_age.index = df_homicide_california_merged_age['Perpetrator Age']\n",
    "df_homicide_california_merged_age = df_homicide_california_merged_age[['Total_Murder_1988_93','Total_Murder_1995_00']]"
   ]
  },
  {
   "cell_type": "code",
   "execution_count": 221,
   "metadata": {
    "collapsed": false
   },
   "outputs": [
    {
     "data": {
      "image/png": "[encoded data removed]",
      "text/plain": [
       "<matplotlib.figure.Figure at 0xaf42d974e0>"
      ]
     },
     "metadata": {},
     "output_type": "display_data"
    }
   ],
   "source": [
    "df_homicide_california_merged_age.plot.bar()\n",
    "plt.show()"
   ]
  },
  {
   "cell_type": "markdown",
   "metadata": {},
   "source": [
    "##### Note: The bar graph shows that there was a tremendous decrease in crime perpetuators at various age groups after 1995 "
   ]
  },
  {
   "cell_type": "code",
   "execution_count": 222,
   "metadata": {
    "collapsed": true
   },
   "outputs": [],
   "source": [
    "#writing output to csv file\n",
    "df_homicide_california_merged_age.to_csv(output_folder+'Crime_comparison_1988_1995_by_age.csv', sep=',', encoding='utf-8')"
   ]
  },
  {
   "cell_type": "markdown",
   "metadata": {},
   "source": [
    "#### Comparing the type and number of weapons used between 1988-93 and 1995-00"
   ]
  },
  {
   "cell_type": "code",
   "execution_count": 223,
   "metadata": {
    "collapsed": false
   },
   "outputs": [],
   "source": [
    "df_homicide_california_88_weapon = df_homicide_california_88.groupby('Weapon').sum()\n",
    "df_homicide_california_88_weapon = df_homicide_california_88_weapon.reset_index()\n",
    "df_homicide_california_88_weapon = df_homicide_california_88_weapon[['Weapon','Victim Count','count']]\n",
    "#df_homicide_california_88_weapon"
   ]
  },
  {
   "cell_type": "code",
   "execution_count": 224,
   "metadata": {
    "collapsed": false
   },
   "outputs": [
    {
     "name": "stderr",
     "output_type": "stream",
     "text": [
      "C:\\Users\\Rainbow\\Anaconda3\\lib\\site-packages\\ipykernel\\__main__.py:1: FutureWarning: sort(columns=....) is deprecated, use sort_values(by=.....)\n",
      "  if __name__ == '__main__':\n",
      "C:\\Users\\Rainbow\\Anaconda3\\lib\\site-packages\\pandas\\core\\frame.py:2834: SettingWithCopyWarning: \n",
      "A value is trying to be set on a copy of a slice from a DataFrame\n",
      "\n",
      "See the caveats in the documentation: http://pandas.pydata.org/pandas-docs/stable/indexing.html#indexing-view-versus-copy\n",
      "  **kwargs)\n"
     ]
    }
   ],
   "source": [
    "df_homicide_california_88_weapon.sort(ascending=False,columns='count',inplace=True)\n",
    "df_homicide_california_88_weapon = df_homicide_california_88_weapon[:7]\n",
    "df_homicide_california_88_weapon_plot = df_homicide_california_88_weapon[['Weapon','count']]\n",
    "df_homicide_california_88_weapon_plot.rename(columns={'count': 'Total_Weapon_1988_93'}, inplace=True)"
   ]
  },
  {
   "cell_type": "code",
   "execution_count": 225,
   "metadata": {
    "collapsed": false
   },
   "outputs": [],
   "source": [
    "df_homicide_california_95_weapon = df_homicide_california_95.groupby('Weapon').sum()\n",
    "df_homicide_california_95_weapon = df_homicide_california_95_weapon.reset_index()\n",
    "df_homicide_california_95_weapon = df_homicide_california_95_weapon[['Weapon','Victim Count','count']]\n",
    "#df_homicide_california_95_weapon"
   ]
  },
  {
   "cell_type": "code",
   "execution_count": 226,
   "metadata": {
    "collapsed": false
   },
   "outputs": [
    {
     "name": "stderr",
     "output_type": "stream",
     "text": [
      "C:\\Users\\Rainbow\\Anaconda3\\lib\\site-packages\\ipykernel\\__main__.py:1: FutureWarning: sort(columns=....) is deprecated, use sort_values(by=.....)\n",
      "  if __name__ == '__main__':\n",
      "C:\\Users\\Rainbow\\Anaconda3\\lib\\site-packages\\pandas\\core\\frame.py:2834: SettingWithCopyWarning: \n",
      "A value is trying to be set on a copy of a slice from a DataFrame\n",
      "\n",
      "See the caveats in the documentation: http://pandas.pydata.org/pandas-docs/stable/indexing.html#indexing-view-versus-copy\n",
      "  **kwargs)\n"
     ]
    }
   ],
   "source": [
    "df_homicide_california_95_weapon.sort(ascending=False,columns='count',inplace=True)\n",
    "df_homicide_california_95_weapon = df_homicide_california_95_weapon[:7]\n",
    "df_homicide_california_95_weapon_plot = df_homicide_california_95_weapon[['Weapon','count']]\n",
    "df_homicide_california_95_weapon_plot.rename(columns={'count': 'Total_Weapon_1995_00'}, inplace=True)"
   ]
  },
  {
   "cell_type": "code",
   "execution_count": 227,
   "metadata": {
    "collapsed": false
   },
   "outputs": [
    {
     "name": "stderr",
     "output_type": "stream",
     "text": [
      "C:\\Users\\Rainbow\\Anaconda3\\lib\\site-packages\\ipykernel\\__main__.py:3: FutureWarning: sort(columns=....) is deprecated, use sort_values(by=.....)\n",
      "  app.launch_new_instance()\n"
     ]
    }
   ],
   "source": [
    "#merging to dataframes\n",
    "df_homicide_california_merged_weapon = pd.merge(df_homicide_california_88_weapon_plot,df_homicide_california_95_weapon_plot, on=['Weapon'])\n",
    "df_homicide_california_merged_weapon.sort(ascending=False,columns=\"Total_Weapon_1988_93\",inplace=True)\n",
    "df_homicide_california_merged_weapon = df_homicide_california_merged_weapon[:10]"
   ]
  },
  {
   "cell_type": "code",
   "execution_count": 228,
   "metadata": {
    "collapsed": false
   },
   "outputs": [
    {
     "data": {
      "text/html": [
       "<div>\n",
       "<table border=\"1\" class=\"dataframe\">\n",
       "  <thead>\n",
       "    <tr style=\"text-align: right;\">\n",
       "      <th></th>\n",
       "      <th>Total_Weapon_1988_93</th>\n",
       "      <th>Total_Weapon_1995_00</th>\n",
       "    </tr>\n",
       "    <tr>\n",
       "      <th>Weapon</th>\n",
       "      <th></th>\n",
       "      <th></th>\n",
       "    </tr>\n",
       "  </thead>\n",
       "  <tbody>\n",
       "    <tr>\n",
       "      <th>Handgun</th>\n",
       "      <td>13291</td>\n",
       "      <td>10342</td>\n",
       "    </tr>\n",
       "    <tr>\n",
       "      <th>Knife</th>\n",
       "      <td>3357</td>\n",
       "      <td>1917</td>\n",
       "    </tr>\n",
       "    <tr>\n",
       "      <th>Blunt Object</th>\n",
       "      <td>2189</td>\n",
       "      <td>1590</td>\n",
       "    </tr>\n",
       "    <tr>\n",
       "      <th>Shotgun</th>\n",
       "      <td>1229</td>\n",
       "      <td>516</td>\n",
       "    </tr>\n",
       "    <tr>\n",
       "      <th>Rifle</th>\n",
       "      <td>1116</td>\n",
       "      <td>616</td>\n",
       "    </tr>\n",
       "    <tr>\n",
       "      <th>Strangulation</th>\n",
       "      <td>564</td>\n",
       "      <td>354</td>\n",
       "    </tr>\n",
       "  </tbody>\n",
       "</table>\n",
       "</div>"
      ],
      "text/plain": [
       "               Total_Weapon_1988_93  Total_Weapon_1995_00\n",
       "Weapon                                                   \n",
       "Handgun                       13291                 10342\n",
       "Knife                          3357                  1917\n",
       "Blunt Object                   2189                  1590\n",
       "Shotgun                        1229                   516\n",
       "Rifle                          1116                   616\n",
       "Strangulation                   564                   354"
      ]
     },
     "execution_count": 228,
     "metadata": {},
     "output_type": "execute_result"
    }
   ],
   "source": [
    "df_homicide_california_merged_weapon.index = df_homicide_california_merged_weapon['Weapon']\n",
    "df_homicide_california_merged_weapon = df_homicide_california_merged_weapon[['Total_Weapon_1988_93','Total_Weapon_1995_00']]\n",
    "df_homicide_california_merged_weapon"
   ]
  },
  {
   "cell_type": "code",
   "execution_count": 229,
   "metadata": {
    "collapsed": false
   },
   "outputs": [
    {
     "data": {
      "image/png": "[encoded data removed]",
      "text/plain": [
       "<matplotlib.figure.Figure at 0xaf433c57f0>"
      ]
     },
     "metadata": {},
     "output_type": "display_data"
    }
   ],
   "source": [
    "df_homicide_california_merged_weapon.plot.bar()\n",
    "plt.show()"
   ]
  },
  {
   "cell_type": "markdown",
   "metadata": {},
   "source": [
    "##### Note: The above graph shows that there were a signifcant decrease in the usage of certain weapons like Handgun, Shotgun, Rifle etc.. these have led to lower death rates. "
   ]
  },
  {
   "cell_type": "code",
   "execution_count": 230,
   "metadata": {
    "collapsed": true
   },
   "outputs": [],
   "source": [
    "#writing output to csv file\n",
    "df_homicide_california_merged_weapon.to_csv(output_folder+'Crime_comparison_1988_1995_by_weapon.csv', sep=',', encoding='utf-8')"
   ]
  },
  {
   "cell_type": "markdown",
   "metadata": {
    "collapsed": true
   },
   "source": [
    "#### Analysing the data sets to verify if new gun regulations where introduced or not, which inturn led to a drop in gun use in California."
   ]
  },
  {
   "cell_type": "code",
   "execution_count": null,
   "metadata": {
    "collapsed": true
   },
   "outputs": [],
   "source": []
  },
  {
   "cell_type": "code",
   "execution_count": 231,
   "metadata": {
    "collapsed": true
   },
   "outputs": [],
   "source": [
    "file_count_dict_95_20 = {}\n",
    "file_count_dict_88_93 = {}"
   ]
  },
  {
   "cell_type": "code",
   "execution_count": 232,
   "metadata": {
    "collapsed": true
   },
   "outputs": [],
   "source": [
    "# Analysing the 1995 to 2000 articles and the topics those were more in concern\n",
    "\n",
    "for dir in subject_dirs_95_20:\n",
    "    dir_name = dir.replace((parent_dir_95_20+'\\\\'),'')\n",
    "    file_count_dict_95_20[dir_name] = 0\n",
    "    csv_files = [os.path.join(dir, json) for json in os.listdir(dir) if os.path.isfile(os.path.join(dir, json)) and \n",
    "                 json.endswith('.json')]\n",
    "    for file in csv_files:\n",
    "        file_name = file.replace((dir+'\\\\'),'')\n",
    "        url = (parent_dir_95_20+'\\\\')+dir_name+'/'+file_name\n",
    "        with open(url) as data_file:    \n",
    "            file_data = json.load(data_file)\n",
    "            file_count_dict_95_20[dir_name] = file_count_dict_95_20[dir_name] + 1"
   ]
  },
  {
   "cell_type": "code",
   "execution_count": 233,
   "metadata": {
    "collapsed": false
   },
   "outputs": [
    {
     "name": "stderr",
     "output_type": "stream",
     "text": [
      "C:\\Users\\Rainbow\\Anaconda3\\lib\\site-packages\\ipykernel\\__main__.py:5: FutureWarning: sort(columns=....) is deprecated, use sort_values(by=.....)\n"
     ]
    }
   ],
   "source": [
    "#pd.DataFrame(word_count.items(),columns=['Word', 'Count'])\n",
    "df_subject_dirs_95_20_sorted = pd.DataFrame.from_dict(file_count_dict_95_20,orient='index')\n",
    "df_subject_dirs_95_20_sorted = df_subject_dirs_95_20_sorted.reset_index()\n",
    "df_subject_dirs_95_20_sorted.columns = ['File', 'Count']\n",
    "df_subject_dirs_95_20_sorted.sort(ascending=False,columns='Count',inplace=True)\n",
    "df_subject_dirs_95_20_sorted = df_subject_dirs_95_20_sorted.reset_index()\n",
    "df_subject_dirs_95_20_sorted.rename(columns={'Count': 'Total_articles_95_20'}, inplace=True)"
   ]
  },
  {
   "cell_type": "code",
   "execution_count": 234,
   "metadata": {
    "collapsed": false
   },
   "outputs": [],
   "source": [
    "# Analysing the 1988 to 1993 articles and the topics those were more in concern\n",
    "\n",
    "for dir in subject_dirs_88_93:\n",
    "    dir_name = dir.replace((parent_dir_88_93+'\\\\'),'')\n",
    "    file_count_dict_88_93[dir_name] = 0\n",
    "    csv_files = [os.path.join(dir, json) for json in os.listdir(dir) if os.path.isfile(os.path.join(dir, json)) and json.endswith('.json')]\n",
    "    for file in csv_files:\n",
    "        file_name = file.replace((dir+'\\\\'),'')\n",
    "        url = (parent_dir_88_93+'\\\\')+dir_name+'/'+file_name\n",
    "        with open(url) as data_file:    \n",
    "            file_data = json.load(data_file)\n",
    "            file_count_dict_88_93[dir_name] = file_count_dict_88_93[dir_name] + 1"
   ]
  },
  {
   "cell_type": "code",
   "execution_count": 235,
   "metadata": {
    "collapsed": false
   },
   "outputs": [
    {
     "name": "stderr",
     "output_type": "stream",
     "text": [
      "C:\\Users\\Rainbow\\Anaconda3\\lib\\site-packages\\ipykernel\\__main__.py:5: FutureWarning: sort(columns=....) is deprecated, use sort_values(by=.....)\n"
     ]
    }
   ],
   "source": [
    "#pd.DataFrame(word_count.items(),columns=['Word', 'Count'])\n",
    "df_subject_dirs_88_93_sorted = pd.DataFrame.from_dict(file_count_dict_88_93,orient='index')\n",
    "df_subject_dirs_88_93_sorted = df_subject_dirs_88_93_sorted.reset_index()\n",
    "df_subject_dirs_88_93_sorted.columns = ['File', 'Count']\n",
    "df_subject_dirs_88_93_sorted.sort(ascending=False,columns='Count',inplace=True)\n",
    "df_subject_dirs_88_93_sorted = df_subject_dirs_88_93_sorted.reset_index()\n",
    "df_subject_dirs_88_93_sorted.rename(columns={'Count': 'Total_articles_88_93'}, inplace=True)"
   ]
  },
  {
   "cell_type": "code",
   "execution_count": 236,
   "metadata": {
    "collapsed": true
   },
   "outputs": [],
   "source": [
    "#df_subject_dirs_sorted GRAPH"
   ]
  },
  {
   "cell_type": "code",
   "execution_count": 237,
   "metadata": {
    "collapsed": false
   },
   "outputs": [
    {
     "data": {
      "text/plain": [
       "['ELECTIONS',\n",
       " 'REFERENDUMS',\n",
       " 'EDUCATION AND SCHOOLS',\n",
       " 'BIOGRAPHICAL INFORMATION',\n",
       " 'LAW AND LEGISLATION',\n",
       " 'AFFIRMATIVE ACTION',\n",
       " 'FINANCES',\n",
       " 'DECISIONS AND VERDICTS',\n",
       " 'SUITS AND LITIGATION',\n",
       " 'ELECTION ISSUES',\n",
       " 'PRESIDENTIAL ELECTION OF 1996',\n",
       " 'BLACKS',\n",
       " 'MURDERS AND ATTEMPTED MURDERS',\n",
       " 'ELECTRIC LIGHT AND POWER',\n",
       " 'MEDICINE AND HEALTH',\n",
       " 'WEATHER',\n",
       " 'PRESIDENTIAL ELECTION OF 2000',\n",
       " 'COLLEGES AND UNIVERSITIES',\n",
       " 'MERGERS, ACQUISITIONS AND DIVESTITURES',\n",
       " 'LABOR',\n",
       " 'PRICES (FARES, FEES AND RATES)',\n",
       " 'CHILDREN AND YOUTH',\n",
       " 'REGULATION AND DEREGULATION OF INDUSTRY',\n",
       " 'PRIMARIES',\n",
       " 'GOVERNORS (US)',\n",
       " 'EDITORIALS',\n",
       " 'IMMIGRATION AND REFUGEES',\n",
       " 'HISPANIC-AMERICANS',\n",
       " 'MINORITIES (ETHNIC, RACIAL, RELIGIOUS)',\n",
       " 'BILINGUAL EDUCATION',\n",
       " 'ALCOHOLIC BEVERAGES',\n",
       " 'SMOKING AND TOBACCO',\n",
       " 'AUTOMOBILES',\n",
       " 'WINES',\n",
       " 'DISCRIMINATION',\n",
       " 'FLOODS',\n",
       " 'WOMEN',\n",
       " 'TAXATION',\n",
       " 'AIR POLLUTION',\n",
       " 'ACCIDENTS AND SAFETY',\n",
       " 'DRUG ABUSE AND TRAFFIC',\n",
       " 'PUBLIC OPINION',\n",
       " 'OIL (PETROLEUM) AND GASOLINE',\n",
       " 'CORRECTION STORIES',\n",
       " 'ROADS AND TRAFFIC',\n",
       " 'ETHICS',\n",
       " 'HOMOSEXUALITY',\n",
       " 'SENTENCES (CRIMINAL)',\n",
       " 'ILLEGAL ALIENS',\n",
       " 'STANDARDS AND STANDARDIZATION',\n",
       " 'CRIME AND CRIMINALS',\n",
       " 'FORESTS AND FORESTRY',\n",
       " 'CAPITAL PUNISHMENT',\n",
       " 'MARIJUANA',\n",
       " 'COMPUTERS AND INFORMATION SYSTEMS',\n",
       " 'SUITS AND CLAIMS AGAINST GOVERNMENT',\n",
       " 'PRISONS AND PRISONERS',\n",
       " 'FRAUDS AND SWINDLING',\n",
       " 'POLITICS AND GOVERNMENT',\n",
       " 'TELEVISION',\n",
       " 'ADVERTISING',\n",
       " 'INDIANS, AMERICAN',\n",
       " 'SUICIDES AND SUICIDE ATTEMPTS',\n",
       " 'ADMISSIONS STANDARDS',\n",
       " 'FIRES AND FIREMEN',\n",
       " 'DOCTORS',\n",
       " 'HEALTH INSURANCE',\n",
       " 'LEGISLATURES AND PARLIAMENTS',\n",
       " 'RELIGIOUS CULTS',\n",
       " 'POLITICAL ADVERTISING',\n",
       " 'STATES (US)',\n",
       " 'BUDGETS AND BUDGETING',\n",
       " 'UNITED STATES ARMAMENT AND DEFENSE',\n",
       " 'TELEPHONES AND TELECOMMUNICATIONS',\n",
       " 'SEX CRIMES',\n",
       " 'SHORTAGES',\n",
       " 'EARTHQUAKES',\n",
       " 'REDWOOD TREES',\n",
       " 'TEACHERS AND SCHOOL EMPLOYEES',\n",
       " 'LAYOFFS AND JOB REDUCTIONS',\n",
       " 'TESTS AND TESTING',\n",
       " 'ENDANGERED AND EXTINCT SPECIES',\n",
       " 'REFORM AND REORGANIZATION',\n",
       " 'ECONOMIC CONDITIONS AND TRENDS',\n",
       " 'EQUAL EDUCATIONAL OPPORTUNITIES',\n",
       " 'HOUSING',\n",
       " 'MINORITIES (US)',\n",
       " 'FOREST AND BRUSH FIRES',\n",
       " 'MARRIAGES',\n",
       " 'BARS',\n",
       " 'AIRLINES AND AIRPLANES',\n",
       " 'FINES (PENALTIES)',\n",
       " 'INDUSTRY PROFILES',\n",
       " 'MOTION PICTURES',\n",
       " 'WELFARE (US)',\n",
       " 'MATHEMATICS',\n",
       " 'GAMBLING',\n",
       " 'COMPUTERS AND THE INTERNET',\n",
       " 'HEALTH MAINTENANCE ORGANIZATIONS AND MANAGED CARE',\n",
       " 'AGRICULTURE',\n",
       " 'MILITARY BASES AND INSTALLATIONS',\n",
       " 'CONSUMER PROTECTION',\n",
       " 'WATER',\n",
       " 'RAIN',\n",
       " 'RESEARCH',\n",
       " 'TERM LIMITS (POLITICAL OFFICE)',\n",
       " 'ROBBERIES AND THEFTS',\n",
       " 'NEWS AND NEWS MEDIA',\n",
       " 'LOGGING INDUSTRY',\n",
       " 'ASIAN-AMERICANS',\n",
       " 'TRAVEL AND VACATIONS',\n",
       " 'ELECTION RESULTS',\n",
       " 'BANKS AND BANKING',\n",
       " 'HIRING AND PROMOTION',\n",
       " 'GOLD',\n",
       " 'ELECTRIC VEHICLES',\n",
       " 'ABORTION',\n",
       " 'COURTS',\n",
       " 'DEMONSTRATIONS AND RIOTS',\n",
       " 'HEALTH MAINTENANCE ORGANIZATIONS',\n",
       " 'INTERNET AND WORLD WIDE WEB',\n",
       " 'POLICE',\n",
       " 'BOOKS AND LITERATURE',\n",
       " 'RETAIL STORES AND TRADE',\n",
       " 'EL NINO (PACIFIC OCEAN CURRENT)',\n",
       " 'FORECASTS',\n",
       " 'GAS (FUEL)',\n",
       " 'INSURANCE',\n",
       " 'SHUTDOWNS (INSTITUTIONAL)',\n",
       " 'WAGES AND SALARIES',\n",
       " 'UNITED STATES POLITICS AND GOVERNMENT',\n",
       " 'CASINOS',\n",
       " 'PROBATION AND PAROLE',\n",
       " 'DEBATING',\n",
       " 'CLASS-ACTION SUITS',\n",
       " 'UNEMPLOYMENT AND JOB MARKET',\n",
       " 'TEXTBOOKS',\n",
       " 'VOUCHERS',\n",
       " 'ANTITRUST ACTIONS AND LAWS',\n",
       " 'GOVERNMENT EMPLOYEES',\n",
       " 'CANCER',\n",
       " 'FISH AND OTHER MARINE LIFE',\n",
       " 'GOVERNMENT BONDS',\n",
       " 'MARKETING AND MERCHANDISING',\n",
       " 'FOOD',\n",
       " 'APPOINTMENTS AND EXECUTIVE CHANGES',\n",
       " 'PRIVACY, RIGHT OF',\n",
       " 'NAVIES',\n",
       " 'PRESIDENTIAL ELECTIONS (US)',\n",
       " 'PRIVACY',\n",
       " 'DEATHS (OBITUARIES)',\n",
       " 'PROPOSITION 187 (CALIFORNIA INITIATIVE)',\n",
       " 'SALES TAX',\n",
       " 'PROPOSITION 209 (CALIFORNIA INITIATIVE)',\n",
       " 'REVERSE DISCRIMINATION',\n",
       " 'UTILITY VEHICLES AND OTHER LIGHT TRUCKS',\n",
       " 'UNIONIZATION',\n",
       " 'THIRD-PARTY MOVES (US)',\n",
       " 'LABOR ROLE IN POLITICS',\n",
       " 'BANKRUPTCIES',\n",
       " 'BIRDS',\n",
       " 'BOATS AND BOATING',\n",
       " 'LIFE INSURANCE',\n",
       " 'SPACE',\n",
       " 'PROPOSITION 227 (CALIFORNIA INITIATIVE)',\n",
       " 'LUNGS',\n",
       " 'CASTRATION',\n",
       " 'MCCLELLAN AIR FORCE BASE (CALIF)',\n",
       " 'LOBBYING AND LOBBYISTS',\n",
       " 'MENTAL HEALTH AND DISORDERS',\n",
       " 'MIGRANT LABOR',\n",
       " 'MORTGAGES',\n",
       " 'FEDERAL AID (US)',\n",
       " 'FOG',\n",
       " 'RECALLS AND BANS OF PRODUCTS',\n",
       " 'CITRUS FRUITS',\n",
       " 'MEXICAN-AMERICANS',\n",
       " 'NURSING HOMES',\n",
       " 'INCOME TAX',\n",
       " 'NURSING AND NURSES',\n",
       " 'FACTORIES AND INDUSTRIAL PLANTS',\n",
       " 'INVENTIONS AND PATENTS',\n",
       " 'FARMERS',\n",
       " 'KIDNAPPING',\n",
       " 'LABELING AND LABELS',\n",
       " 'ENGLISH LANGUAGE',\n",
       " 'GUARDS',\n",
       " 'FIELD POLL',\n",
       " 'NAMES, ORGANIZATIONAL',\n",
       " 'FREEDOM OF THE PRESS',\n",
       " 'NEWSPAPERS',\n",
       " 'ENVIRONMENT',\n",
       " 'LETTUCE',\n",
       " 'FIREARMS',\n",
       " 'MINES AND MINING',\n",
       " 'NEW MODELS, DESIGN AND PRODUCTS',\n",
       " 'NYTRAVEL',\n",
       " 'LABOR UNIONS',\n",
       " 'OFFICE BUILDINGS',\n",
       " 'RATINGS AND RATING SYSTEMS',\n",
       " 'CONTRACTS',\n",
       " 'APPEALS COURTS',\n",
       " 'ARCHITECTURE',\n",
       " 'CONSTITUTIONAL AMENDMENTS',\n",
       " 'TRUCKS AND TRUCKING',\n",
       " 'TREES AND SHRUBS',\n",
       " 'COMPUTER SOFTWARE',\n",
       " 'REGISTRATION OF VOTERS',\n",
       " 'RENTING AND LEASING',\n",
       " 'CIVIL RIGHTS',\n",
       " 'AUTOMOBILE SAFETY FEATURES AND DEFECTS',\n",
       " 'BACTERIA',\n",
       " 'REVIEWS',\n",
       " 'SCHOLARSHIPS AND FELLOWSHIPS',\n",
       " 'SERIAL MURDERS',\n",
       " 'SHOPPING CENTERS',\n",
       " 'BUTTERFLIES AND MOTHS',\n",
       " 'SKIING',\n",
       " 'STOCKS AND BONDS',\n",
       " 'BLACKOUTS (ELECTRICAL)',\n",
       " 'SPANISH LANGUAGE',\n",
       " 'REAL ESTATE',\n",
       " 'CONSTITUTIONS',\n",
       " 'PORNOGRAPHY AND OBSCENITY',\n",
       " 'VANS',\n",
       " 'CREDIT',\n",
       " 'RAFTS',\n",
       " 'COUNTERFEITING',\n",
       " 'PHOTOGRAPHY',\n",
       " 'PRIVATE AND SECTARIAN SCHOOLS',\n",
       " 'RADIO',\n",
       " 'QUOTAS',\n",
       " 'PLEA BARGAINING',\n",
       " 'POLICE BRUTALITY AND MISCONDUCT',\n",
       " 'DAMS AND DIKES',\n",
       " 'VETOES (US)',\n",
       " 'STRIKES',\n",
       " 'WORLD WAR II (1939-45)',\n",
       " 'LEGAL PROFESSION',\n",
       " 'UNITED STATES ECONOMY',\n",
       " 'SULFUR AND SULFUR COMPOUNDS',\n",
       " 'STRAWBERRIES',\n",
       " 'LEMONS',\n",
       " 'SPECIAL SECTIONS',\n",
       " 'INAUGURATIONS',\n",
       " 'IMPEACHMENT',\n",
       " 'INCOME',\n",
       " 'SWEATSHOPS',\n",
       " 'SUPERMARKETS',\n",
       " 'ABANDONMENT',\n",
       " 'INDUSTRIAL AND OCCUPATIONAL HAZARDS',\n",
       " 'TOLLS',\n",
       " 'VEGETABLES',\n",
       " 'TRADEMARKS AND TRADE NAMES',\n",
       " 'TRANSIT SYSTEMS',\n",
       " 'USED CARS',\n",
       " 'TREASURE',\n",
       " 'INTERNATIONAL TRADE AND WORLD MARKET',\n",
       " 'LIABILITY FOR PRODUCTS',\n",
       " 'JUDGES',\n",
       " 'JOCKEYS, DRIVERS AND TRAINERS',\n",
       " 'JEWS',\n",
       " 'SPAS',\n",
       " 'MAYORS',\n",
       " 'SPANISH-SPEAKING GROUPS (US)',\n",
       " 'MTBE (GASOLINE ADDITIVE)',\n",
       " 'MINORITIES (ETHNIC, RACIAL,RELIGIOUS)',\n",
       " 'RECALL (ELECTIONS)',\n",
       " 'MISLEADING AND DECEPTIVE ADVERTISING',\n",
       " 'REAPPORTIONMENT',\n",
       " 'MISSING PERSONS',\n",
       " 'RATES',\n",
       " 'MOUNTAIN LIONS',\n",
       " 'PRIVATIZATION',\n",
       " 'LIBRARIES AND LIBRARIANS',\n",
       " 'MUSIC',\n",
       " 'PREGNANCY AND OBSTETRICS',\n",
       " 'POPULATION',\n",
       " 'NEWMODELS, DESIGN AND PRODUCTS',\n",
       " 'PIPELINES',\n",
       " 'PARKS AND OTHER RECREATION AREAS',\n",
       " 'PAIN',\n",
       " 'RECESSION AND DEPRESSION',\n",
       " 'RECIPES',\n",
       " 'RECORDINGS (AUDIO)',\n",
       " 'RECORDS AND ACHIEVEMENTS',\n",
       " 'SOOT',\n",
       " 'SOCIAL CONDITIONS AND TRENDS',\n",
       " 'SNOW AND SNOWSTORMS',\n",
       " 'MAGAZINES',\n",
       " 'SMOG',\n",
       " 'SHIPS AND SHIPPING',\n",
       " 'OZONE',\n",
       " 'SALES',\n",
       " 'MEDICAID',\n",
       " 'RESTORATION AND REHABILITATION',\n",
       " 'RESTAURANTS',\n",
       " 'MENTAL RETARDATION',\n",
       " 'RESERVOIRS',\n",
       " 'REPRODUCTION (BIOLOGICAL)',\n",
       " 'MILITARY AIRCRAFT',\n",
       " 'PROPOSITION 226 (CALIFORNIA INITIATIVE)',\n",
       " 'ABALONE',\n",
       " 'CONVENTIONS, NATIONAL (US)',\n",
       " 'ATHLETICS AND SPORTS',\n",
       " 'GARAGES AND SERVICE STATIONS',\n",
       " 'DRUNKEN AND RECKLESS DRIVING',\n",
       " 'DRUG LEGALIZATION',\n",
       " 'DROUGHT',\n",
       " 'ASBESTOS',\n",
       " 'CHILD ABUSE',\n",
       " 'CHILD ABUSE AND NEGLECT',\n",
       " 'DOMESTIC SERVICE',\n",
       " 'ARBITRATION, CONCILIATION AND MEDIATION',\n",
       " 'APPAREL',\n",
       " 'ANTS',\n",
       " 'GOLDEN GATE BRIDGE',\n",
       " 'ANIMALS',\n",
       " 'GRADING OF STUDENTS',\n",
       " 'DIESEL POWER',\n",
       " 'CHEATING',\n",
       " 'FRUIT',\n",
       " 'GUN CONTROL',\n",
       " 'CEMETERIES',\n",
       " 'ENROLLMENT',\n",
       " 'BRIBERY',\n",
       " 'BLINDNESS',\n",
       " 'ENERGY AND POWER',\n",
       " 'ENDORSEMENTS',\n",
       " 'FILIPINO-AMERICANS',\n",
       " 'BASEBALL',\n",
       " 'CARTOONS AND CARTOONISTS',\n",
       " 'ELECTRONIC MAIL',\n",
       " 'FOOD CONTAMINATION AND POISONING',\n",
       " 'FOSTER CARE',\n",
       " 'CELEBRITIES',\n",
       " 'AUTOMATED TELLER MACHINES',\n",
       " 'CELLULAR TELEPHONES',\n",
       " 'ATTORNEYS GENERAL',\n",
       " 'GUIDEBOOKS',\n",
       " 'DRIVERS LICENSES',\n",
       " 'BOYCOTTS',\n",
       " 'HISTORIC BUILDINGS AND SITES',\n",
       " 'CONDORS',\n",
       " 'ADOPTIONS',\n",
       " 'HOSPITALS',\n",
       " 'CONSERVATISM (US POLITICS)',\n",
       " 'HUNTING AND TRAPPING',\n",
       " 'HORSE RACING',\n",
       " 'COMIC BOOKS AND STRIPS',\n",
       " 'HISTORY',\n",
       " 'HOTELS AND MOTELS',\n",
       " 'DEFENSE CONTRACTS',\n",
       " 'HANDICAPPED',\n",
       " 'HAZARDOUS AND TOXIC SUBSTANCES',\n",
       " 'BRIDGES AND TUNNELS',\n",
       " 'SCHOOL BUSES',\n",
       " 'SCIENCE AND TECHNOLOGY',\n",
       " 'SEARCH AND SEIZURE',\n",
       " 'SEAT BELTS',\n",
       " 'SECTARIAN SCHOOLS',\n",
       " 'READING AND WRITING SKILLS',\n",
       " 'CONSERVATION OF RESOURCES',\n",
       " 'BREAST',\n",
       " 'SEQUOIA TREES',\n",
       " 'CAR SEATS (CHILDREN)',\n",
       " 'SNAKES',\n",
       " 'REAL ESTATE INVESTMENT TRUSTS (REIT)',\n",
       " 'CAPITALPUNISHMENT',\n",
       " 'SEXUAL HARASSMENT',\n",
       " 'CONSUMER BEHAVIOR',\n",
       " 'SHEEP',\n",
       " 'RECORDINGS(VIDEO)',\n",
       " 'CAPITAL INVESTMENT',\n",
       " 'CANALS',\n",
       " 'CALIFORNIA STATE PRISON-SACRAMENTO',\n",
       " 'CONVENTIONS AND CONFERENCES',\n",
       " 'BUDDHISM',\n",
       " 'SINGLE PERSONS',\n",
       " 'BROTHER JONATHAN (SHIP)',\n",
       " 'CONTAINERS AND PACKAGING',\n",
       " 'CONTEMPT ACTIONS',\n",
       " 'SMUGGLING',\n",
       " 'CHURCH-STATE RELATIONS',\n",
       " 'SAVINGS AND LOAN ASSOCIATIONS',\n",
       " 'REGULATION ANDDEREGULATION OF INDUSTRY',\n",
       " 'RESERVES (MILITARY)',\n",
       " 'REPETITIVE MOTION DISORDERS',\n",
       " 'CHIROPRACTORS',\n",
       " 'REPERTORY AND RESIDENT THEATERS',\n",
       " 'CLEANSERS, DETERGENTS AND SOAPS',\n",
       " 'REMOTE CONTROL SYSTEMS',\n",
       " 'RESPIRATORY DISEASES',\n",
       " 'CHINESE-AMERICANS',\n",
       " 'CHILD LABOR',\n",
       " 'COGNAC',\n",
       " 'RELIGION AND CHURCHES',\n",
       " 'RETIREMENT COMMUNITIES',\n",
       " 'CHEMOTHERAPY',\n",
       " 'BRAIN',\n",
       " 'REWARDS',\n",
       " 'SATELLITES',\n",
       " 'COLOR',\n",
       " 'COMET HALE-BOPP',\n",
       " 'RIVERS',\n",
       " 'CENSORSHIP',\n",
       " 'REFINERIES',\n",
       " 'ROLLER SKATING',\n",
       " 'SAILBOATS AND SAILING',\n",
       " 'COMPANY AND ORGANIZATION PROFILES',\n",
       " 'COMPANY REPORTS',\n",
       " 'COMPUTER SECURITY',\n",
       " 'SALVAGE',\n",
       " 'CHRISTIAN SCIENCE',\n",
       " 'SANITATION',\n",
       " 'SANTA MONICA PLACE SHOPPING CENTER (CALIF)',\n",
       " 'SAN JUAN CAPISTRANO MISSION (CALIF)',\n",
       " 'ILLEGITIMACY',\n",
       " 'SOLAR ENERGY',\n",
       " 'UNITED STATES INTERNATIONAL RELATIONS',\n",
       " 'AIR TRAFFIC CONTROL',\n",
       " 'AMNESTIES AND PARDONS',\n",
       " 'VANDENBERG AIR FORCE BASE (CALIF)',\n",
       " 'VANDALISM',\n",
       " 'AMUSEMENT PARKS',\n",
       " 'ANESTHESIA AND ANESTHETICS',\n",
       " 'URBAN AREAS',\n",
       " 'UNITED STATES STRATEGIC PETROLEUM RESERVE',\n",
       " 'ARSON',\n",
       " 'TRANSPORTATION',\n",
       " 'UNABOM CASE',\n",
       " 'TWO THOUSAND (YEAR)',\n",
       " 'TWINS',\n",
       " 'TURBINES',\n",
       " 'TUITION',\n",
       " 'ART',\n",
       " 'TROUT',\n",
       " 'ARTICHOKES',\n",
       " 'VENDING MACHINES',\n",
       " 'VETERANS',\n",
       " 'AIR FORCES',\n",
       " 'VICE PRESIDENTS AND VICE PRESIDENCY (US)',\n",
       " 'X-33 (SPACECRAFT)',\n",
       " 'ABSENTEE VOTING',\n",
       " \"WORKERS' COMPENSATION INSURANCE\",\n",
       " 'ACCIDENTS ANDSAFETY',\n",
       " 'WOLVES',\n",
       " 'ACCOUNT CHANGES',\n",
       " 'WIND',\n",
       " 'WHISTLE-BLOWERS',\n",
       " 'ACCOUNTING AND ACCOUNTANTS',\n",
       " 'WEIGHT',\n",
       " 'ACQUIRED IMMUNE DEFICIENCY SYNDROME (AIDS)',\n",
       " 'WATER POLLUTION',\n",
       " 'AGE, CHRONOLOGICAL',\n",
       " 'WAGE AND PRICE CONTROLS',\n",
       " 'AIR CONDITIONING',\n",
       " 'VIOLENCE',\n",
       " 'VIETNAM WAR',\n",
       " 'ASSAULTS',\n",
       " 'TRANSPLANTS',\n",
       " 'BOOK TRADE',\n",
       " 'BIOTECHNOLOGY',\n",
       " 'BASKETBALL',\n",
       " 'BATTERIES',\n",
       " 'SUICIDES ANDSUICIDE ATTEMPTS',\n",
       " 'BEER',\n",
       " 'SUBURBS',\n",
       " 'BIOGRAPHICALINFORMATION',\n",
       " 'STRESS (HUMAN)',\n",
       " 'READING',\n",
       " 'STEEL AND IRON',\n",
       " 'ASTHMA',\n",
       " 'BIRTH CERTIFICATES',\n",
       " 'STATEHOOD (US)',\n",
       " 'BIRTH CONTROL AND FAMILY PLANNING',\n",
       " 'BIRTHS',\n",
       " 'BLOOD',\n",
       " 'BOMBS AND EXPLOSIVES',\n",
       " 'SPACE STATIONS',\n",
       " 'SPACE SHUTTLE',\n",
       " 'SUMMER GAMES (OLYMPICS)',\n",
       " 'BAPTIST CHURCHES',\n",
       " 'SUPREME COURTS (STATE)',\n",
       " 'SURFING',\n",
       " 'TRANSFUSIONS',\n",
       " 'ATHEISM',\n",
       " 'TRADE SHOWS AND FAIRS',\n",
       " 'ATOMIC WEAPONS',\n",
       " 'THEATER',\n",
       " 'ATTACKS ON POLICE',\n",
       " 'AUCTIONS',\n",
       " 'TELESCOPES AND OBSERVATORIES',\n",
       " 'TELEPHONES ANDTELECOMMUNICATIONS',\n",
       " 'AUTOMATIC TELLER MACHINES (ATM)',\n",
       " 'TEAR GAS',\n",
       " 'AUTOMOBILE INSURANCE AND LIABILITY',\n",
       " 'AVALANCHES AND LANDSLIDES',\n",
       " 'TAX EVASION',\n",
       " 'BABY FORMULA',\n",
       " 'SUSPENSIONS, DISMISSALS AND RESIGNATIONS',\n",
       " 'SURVEILLANCE OF CITIZENS BY GOVERNMENT',\n",
       " 'BIOLOGY AND BIOCHEMISTRY',\n",
       " 'PRUNES',\n",
       " 'COOKING AND COOKBOOKS',\n",
       " 'FURNITURE',\n",
       " 'MEMORY',\n",
       " 'FREEDOM OF SPEECH',\n",
       " 'MEDICARE',\n",
       " 'FREEDOM OF SPEECH AND EXPRESSION',\n",
       " 'MEAT',\n",
       " 'FRINGE GROUPS AND MOVEMENTS',\n",
       " 'MAYANS',\n",
       " 'FRUIT FLIES',\n",
       " 'GANGS',\n",
       " 'LONGEVITY',\n",
       " 'MARINAS',\n",
       " 'MANZANAR NATIONAL HISTORIC SITE (CALIF)',\n",
       " 'MALPRACTICE',\n",
       " 'GENERIC AND BRAND NAME PRODUCTS',\n",
       " 'GENETICS AND HEREDITY',\n",
       " 'LSD (LYSERGIC ACID DIETHYLAMIDE)',\n",
       " 'LOTTERIES',\n",
       " 'LOST, MISSING AND RUNAWAY CHILDREN',\n",
       " 'MEN',\n",
       " 'FREEDOM AND HUMAN RIGHTS',\n",
       " 'FRANCHISES',\n",
       " 'MERCY DEATH (EUTHANASIA)',\n",
       " 'EXTRADITION',\n",
       " 'FALSIFICATION OF DATA',\n",
       " 'FESTIVALS',\n",
       " 'FIBER OPTICS',\n",
       " 'MORPHINE',\n",
       " 'MONUMENTS AND MEMORIALS',\n",
       " 'MIXTEC INDIANS',\n",
       " 'FIREWORKS',\n",
       " 'FISHING, COMMERCIAL',\n",
       " 'MINORITIES(ETHNIC, RACIAL, RELIGIOUS)',\n",
       " 'FISHING, SPORT',\n",
       " 'FLEA MARKETS',\n",
       " 'FOOTBALL',\n",
       " 'FORECLOSURES',\n",
       " 'FOREIGN LABOR',\n",
       " 'FORGERY',\n",
       " 'FOURTEENTH AMENDMENT (US CONSTITUTION)',\n",
       " 'LOS ANGELES INTERNATIONAL AIRPORT',\n",
       " 'LOGOTYPES',\n",
       " 'RAP MUSIC',\n",
       " 'INTERACTIVE (TWO-WAY) TELEVISION',\n",
       " 'HOLIDAYS AND SPECIAL OCCASIONS',\n",
       " \"JEHOVAH'S WITNESSES\",\n",
       " 'JAPANESE-AMERICANS',\n",
       " 'INVENTIONS AND INVENTORS',\n",
       " 'INTERSTATE HIGHWAY SYSTEM',\n",
       " 'INTERNET (COMPUTER NETWORK)',\n",
       " 'HOSTAGES',\n",
       " 'INTEREST RATES',\n",
       " 'INFORMERS',\n",
       " 'GENIUS',\n",
       " 'INFANT FORMULAS',\n",
       " 'HUBBLE SPACE TELESCOPE',\n",
       " 'HUNTINGAND TRAPPING',\n",
       " 'INCOME TAXES',\n",
       " 'HURRICANE LINDA',\n",
       " 'HURRICANES AND TROPICAL STORMS',\n",
       " 'HYDROELECTRIC POWER',\n",
       " 'IDENTIFICATION DEVICES',\n",
       " 'JOINT VENTURES AND CONSORTIUMS',\n",
       " 'JUICES',\n",
       " 'JURY SYSTEM',\n",
       " 'HERBS',\n",
       " 'LOCKOUTS',\n",
       " 'LOCAL GOVERNMENT',\n",
       " 'GEOTHERMAL POWER',\n",
       " 'LIVESTOCK',\n",
       " 'LIGHTNING',\n",
       " 'GLASSY-WINGED SHARPSHOOTER (INSECT)',\n",
       " 'LIEUTENANT GOVERNORS (US)',\n",
       " 'GLOBAL POSITIONING SYSTEM',\n",
       " 'LEUKEMIA',\n",
       " 'GOVERNMENTEMPLOYEES',\n",
       " 'GRADUATE SCHOOLS AND STUDENTS',\n",
       " \"GREAT DEPRESSION (1930'S)\",\n",
       " 'LANDSLIDES AND MUDSLIDES',\n",
       " 'LAND USE POLICIES',\n",
       " 'HEALTH MAINTENANCEORGANIZATIONS',\n",
       " 'HEART',\n",
       " 'KOREAN-AMERICANS',\n",
       " 'EXTORTION ANDBLACKMAIL',\n",
       " 'MUTINIES',\n",
       " 'EXTORTION AND BLACKMAIL',\n",
       " 'DOMESTIC VIOLENCE',\n",
       " 'PRIVATESCHOOLS',\n",
       " 'DEPORTATION',\n",
       " 'DIABETES',\n",
       " 'DIETARY SUPPLEMENTS AND HERBAL REMEDIES',\n",
       " 'PRICES(FARES, FEES AND RATES)',\n",
       " 'DIVERS AND DIVING',\n",
       " 'PRICES',\n",
       " 'DIVORCE, SEPARATIONS AND ANNULMENTS',\n",
       " 'PRESIDENTIAL ELECTION OF 1988',\n",
       " 'NAPALM',\n",
       " 'DOUBLE JEOPARDY',\n",
       " \"DOWN'S SYNDROME\",\n",
       " 'DROWNINGS',\n",
       " 'PLUMS',\n",
       " 'DUELS AND DUELING',\n",
       " 'PLASTIC SURGERY',\n",
       " 'DUES',\n",
       " \"PIERCE'S DISEASE\",\n",
       " 'DEFECTIVE PRODUCTS',\n",
       " 'DEATHS',\n",
       " 'PROPOSITION 103 (CALIFORNIA INITIATIVE)',\n",
       " 'PROPOSITION 13 (CALIFORNIA INITIATIVE)',\n",
       " 'RANSOM',\n",
       " 'CREDIT CARDS AND ACCOUNTS',\n",
       " 'RAILROADS',\n",
       " 'CREMATION',\n",
       " 'CRUELTY TO ANIMALS',\n",
       " 'RACKETEERING AND RACKETEERS',\n",
       " 'RACKETEER INFLUENCED AND CORRUPT ORGANIZATION ACT (RICO)',\n",
       " 'CULTURE',\n",
       " 'PUBLIC SERVICE ADS',\n",
       " 'CURRENCY',\n",
       " 'PSYCHIC PHENOMENA',\n",
       " 'ILLEGALALIENS',\n",
       " 'PROSTITUTION',\n",
       " 'DATA PROCESSING (COMPUTERS)',\n",
       " 'DAY CARE CENTERS',\n",
       " 'DEATH',\n",
       " 'DEATH AND DYING',\n",
       " 'E COLI (BACTERIA)',\n",
       " 'PESTICIDES AND PESTS',\n",
       " 'PERJURY',\n",
       " 'OFFSHORE EXPLORATION AND INSTALLATIONS',\n",
       " 'ENDANGEREDAND EXTINCT SPECIES',\n",
       " 'NORTH AMERICAN FREE TRADE AGREEMENT',\n",
       " 'NOISE',\n",
       " 'NITROGEN OXIDE',\n",
       " 'NIGHTCLUBS AND CABARETS',\n",
       " 'NICOTINE',\n",
       " 'NEWS SOURCES, CONFIDENTIAL STATUS OF',\n",
       " 'NEWS PHOTOGRAPHY',\n",
       " 'EQUAL EDUCATIONALOPPORTUNITIES',\n",
       " 'ESPIONAGE',\n",
       " 'EXCISE TAXES',\n",
       " 'NECTARINES',\n",
       " 'NAZI POLICIES TOWARD JEWS AND OTHER MINORITIES',\n",
       " 'NAZI POLICIES TOWARD JEWS AND MINORITIES',\n",
       " 'NAVIGATION',\n",
       " 'EXPLORATION OF RESOURCES',\n",
       " 'NATURE',\n",
       " 'EMBARGOES',\n",
       " 'ELK HILLS NAVAL PETROLEUM RESERVE',\n",
       " 'PEPPER',\n",
       " 'OLIVE OIL',\n",
       " 'PELICANS',\n",
       " 'PELICAN BAY STATE PRISON (CALIF)',\n",
       " 'PEAT',\n",
       " 'PARTNERSHIPS',\n",
       " 'EL NINO (PACIFIC OCEAN PHENOMENON)',\n",
       " 'PARDONS',\n",
       " 'PALO ALTO SQUARE OFFICE COMPLEX (CALIF)',\n",
       " 'PAINTS AND PAINTING',\n",
       " 'PAIN-RELIEVING DRUGS',\n",
       " 'ELECTRONIC INFORMATION SYSTEMS',\n",
       " 'OUTDOOR ADVERTISING',\n",
       " 'ORGANIZED CRIME',\n",
       " 'ORGANIC FOOD',\n",
       " 'ORANGES',\n",
       " 'OLYMPIC GAMES (2000)',\n",
       " 'OLYMPIC GAMES',\n",
       " 'OLIVES',\n",
       " 'YAHI INDIANS']"
      ]
     },
     "execution_count": 237,
     "metadata": {},
     "output_type": "execute_result"
    }
   ],
   "source": [
    "df_subject_dirs_sorted_list = df_subject_dirs_sorted['File'].tolist()\n",
    "df_subject_dirs_sorted_list"
   ]
  },
  {
   "cell_type": "code",
   "execution_count": 238,
   "metadata": {
    "collapsed": false
   },
   "outputs": [
    {
     "name": "stderr",
     "output_type": "stream",
     "text": [
      "C:\\Users\\Rainbow\\Anaconda3\\lib\\site-packages\\ipykernel\\__main__.py:3: FutureWarning: sort(columns=....) is deprecated, use sort_values(by=.....)\n",
      "  app.launch_new_instance()\n"
     ]
    }
   ],
   "source": [
    "#merging to dataframes\n",
    "df_subject_dirs_merged = pd.merge(df_subject_dirs_88_93_sorted,df_subject_dirs_95_20_sorted, on=['File'])\n",
    "df_subject_dirs_merged.sort(ascending=False,columns=\"Total_articles_88_93\",inplace=True)\n",
    "df_subject_dirs_merged = df_subject_dirs_merged[:10]"
   ]
  },
  {
   "cell_type": "code",
   "execution_count": 239,
   "metadata": {
    "collapsed": false
   },
   "outputs": [],
   "source": [
    "df_subject_dirs_merged = df_subject_dirs_merged[['File','Total_articles_88_93','Total_articles_95_20']]"
   ]
  },
  {
   "cell_type": "code",
   "execution_count": 240,
   "metadata": {
    "collapsed": false
   },
   "outputs": [
    {
     "data": {
      "text/html": [
       "<div>\n",
       "<table border=\"1\" class=\"dataframe\">\n",
       "  <thead>\n",
       "    <tr style=\"text-align: right;\">\n",
       "      <th></th>\n",
       "      <th>Total_articles_88_93</th>\n",
       "      <th>Total_articles_95_20</th>\n",
       "    </tr>\n",
       "    <tr>\n",
       "      <th>File</th>\n",
       "      <th></th>\n",
       "      <th></th>\n",
       "    </tr>\n",
       "  </thead>\n",
       "  <tbody>\n",
       "    <tr>\n",
       "      <th>ELECTIONS</th>\n",
       "      <td>104</td>\n",
       "      <td>150</td>\n",
       "    </tr>\n",
       "    <tr>\n",
       "      <th>LAW AND LEGISLATION</th>\n",
       "      <td>95</td>\n",
       "      <td>76</td>\n",
       "    </tr>\n",
       "    <tr>\n",
       "      <th>EARTHQUAKES</th>\n",
       "      <td>79</td>\n",
       "      <td>11</td>\n",
       "    </tr>\n",
       "    <tr>\n",
       "      <th>FINANCES</th>\n",
       "      <td>78</td>\n",
       "      <td>61</td>\n",
       "    </tr>\n",
       "    <tr>\n",
       "      <th>REFERENDUMS</th>\n",
       "      <td>58</td>\n",
       "      <td>94</td>\n",
       "    </tr>\n",
       "    <tr>\n",
       "      <th>BUDGETS AND BUDGETING</th>\n",
       "      <td>55</td>\n",
       "      <td>13</td>\n",
       "    </tr>\n",
       "    <tr>\n",
       "      <th>SUITS AND LITIGATION</th>\n",
       "      <td>53</td>\n",
       "      <td>54</td>\n",
       "    </tr>\n",
       "    <tr>\n",
       "      <th>ELECTION ISSUES</th>\n",
       "      <td>52</td>\n",
       "      <td>49</td>\n",
       "    </tr>\n",
       "    <tr>\n",
       "      <th>EDUCATION AND SCHOOLS</th>\n",
       "      <td>47</td>\n",
       "      <td>83</td>\n",
       "    </tr>\n",
       "    <tr>\n",
       "      <th>WINES</th>\n",
       "      <td>46</td>\n",
       "      <td>26</td>\n",
       "    </tr>\n",
       "  </tbody>\n",
       "</table>\n",
       "</div>"
      ],
      "text/plain": [
       "                       Total_articles_88_93  Total_articles_95_20\n",
       "File                                                             \n",
       "ELECTIONS                               104                   150\n",
       "LAW AND LEGISLATION                      95                    76\n",
       "EARTHQUAKES                              79                    11\n",
       "FINANCES                                 78                    61\n",
       "REFERENDUMS                              58                    94\n",
       "BUDGETS AND BUDGETING                    55                    13\n",
       "SUITS AND LITIGATION                     53                    54\n",
       "ELECTION ISSUES                          52                    49\n",
       "EDUCATION AND SCHOOLS                    47                    83\n",
       "WINES                                    46                    26"
      ]
     },
     "execution_count": 240,
     "metadata": {},
     "output_type": "execute_result"
    }
   ],
   "source": [
    "df_subject_dirs_merged.index = df_subject_dirs_merged['File']\n",
    "df_subject_dirs_merged = df_subject_dirs_merged[['Total_articles_88_93','Total_articles_95_20']]\n",
    "df_subject_dirs_merged"
   ]
  },
  {
   "cell_type": "code",
   "execution_count": 241,
   "metadata": {
    "collapsed": false
   },
   "outputs": [
    {
     "data": {
      "image/png": "[encoded data removed]",
      "text/plain": [
       "<matplotlib.figure.Figure at 0xaf433e0ef0>"
      ]
     },
     "metadata": {},
     "output_type": "display_data"
    }
   ],
   "source": [
    "df_subject_dirs_merged.plot.bar()\n",
    "plt.show()"
   ]
  },
  {
   "cell_type": "markdown",
   "metadata": {},
   "source": [
    "##### Note: As you can see eventhough there was a large amount of discussion regarding elections, referendums where also introduced freuqently also education and schooling. Providing education to poor teenage students can ensure that they dont end up in a kill spree and there by ruining their future. "
   ]
  },
  {
   "cell_type": "code",
   "execution_count": 242,
   "metadata": {
    "collapsed": true
   },
   "outputs": [],
   "source": [
    "#writing output to csv file\n",
    "df_subject_dirs_merged.to_csv(output_folder+'article_comparison_1988_1995.csv', sep=',', encoding='utf-8')"
   ]
  },
  {
   "cell_type": "code",
   "execution_count": null,
   "metadata": {
    "collapsed": true
   },
   "outputs": [],
   "source": [
    "#### The analysis of articles realted to California during 1990 to 1993 shows that there was a lot of concern in the minds of American regarding human health and economic stability in California during early 90's. Further strengthening the gun laws in California after 1993 has led to trememdous decrease in death rate by guns.\n",
    "#### Low-cost cigarettes and smoking behavior in California, 1990-1993.\n",
    "#### Rice pesticide concentrations in the Colusa Basin Drain and the Sacramento River\n",
    "#### Haemophilus influenzae Invasive Disease Among Children Aged less than 5"
   ]
  }
 ],
 "metadata": {
  "kernelspec": {
   "display_name": "Python 3",
   "language": "python",
   "name": "python3"
  },
  "language_info": {
   "codemirror_mode": {
    "name": "ipython",
    "version": 3
   },
   "file_extension": ".py",
   "mimetype": "text/x-python",
   "name": "python",
   "nbconvert_exporter": "python",
   "pygments_lexer": "ipython3",
   "version": "3.6.0"
  }
 },
 "nbformat": 4,
 "nbformat_minor": 2
}
