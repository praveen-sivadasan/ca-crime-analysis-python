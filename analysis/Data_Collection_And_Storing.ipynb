{
 "cells": [
  {
   "cell_type": "markdown",
   "metadata": {
    "collapsed": true
   },
   "source": [
    "#### Collecting and storing data from NYTimes API"
   ]
  },
  {
   "cell_type": "code",
   "execution_count": 9,
   "metadata": {
    "collapsed": true
   },
   "outputs": [],
   "source": [
    "import requests, configparser, os, sys, json, glob\n",
    "from nltk.tag import pos_tag\n",
    "import operator"
   ]
  },
  {
   "cell_type": "code",
   "execution_count": 14,
   "metadata": {
    "collapsed": false
   },
   "outputs": [
    {
     "name": "stderr",
     "output_type": "stream",
     "text": [
      "C:\\Users\\Rainbow\\Anaconda3\\lib\\site-packages\\ipykernel\\__main__.py:4: DeprecationWarning: This method will be removed in future versions.  Use 'parser.read_file()' instead.\n"
     ]
    }
   ],
   "source": [
    "# Collecting data\n",
    "\n",
    "config = configparser.ConfigParser()\n",
    "config.readfp(open(r'../extra/config.txt'))"
   ]
  },
  {
   "cell_type": "code",
   "execution_count": 15,
   "metadata": {
    "collapsed": false,
    "scrolled": false
   },
   "outputs": [
    {
     "name": "stdout",
     "output_type": "stream",
     "text": [
      "page 1\n",
      "doc 1 in page\n",
      "doc 2 in page\n",
      "doc 3 in page\n",
      "doc 4 in page\n",
      "doc 5 in page\n",
      "doc 6 in page\n",
      "doc 7 in page\n",
      "doc 8 in page\n",
      "doc 9 in page\n",
      "doc 10 in page\n",
      "Completed collecting and storing!\n"
     ]
    }
   ],
   "source": [
    "i = 1\n",
    "try:\n",
    "    topic_index_dict = {}\n",
    "    while i < 2:\n",
    "        try:\n",
    "            print('page '+str(i))\n",
    "            uri_path_list = []\n",
    "            path = ''\n",
    "\n",
    "            #creating the url to hit\n",
    "            for link in config['uri']:\n",
    "                uri_path_list.append(config.get('uri',link))\n",
    "                break;            \n",
    "\n",
    "            for directory in config['directory_path']:\n",
    "                if path == '':\n",
    "                    path = config.get('directory_path',directory)\n",
    "                else:\n",
    "                    path = path + '\\\\' + config.get('directory_path',directory)\n",
    "\n",
    "\n",
    "\n",
    "            for key in config['api_key']:\n",
    "                uri_path_list.append('?api_key='+config.get('api_key',key))\n",
    "                break;   \n",
    "\n",
    "            for param in config['parameters']:\n",
    "                uri_path_list.append('&'+param+'='+config.get('parameters',param))\n",
    "\n",
    "            uri_path_list.append('&page=' + str(i) )\n",
    "            uri_path = ''.join(uri_path_list);\n",
    "\n",
    "            #hitting the uri\n",
    "            resp = requests.get(uri_path)\n",
    "            request_data = (resp).json();  \n",
    "            if 'errors' in request_data.keys():\n",
    "                raise Exception(request_data['errors'])\n",
    "            elif 'message' in request_data.keys():\n",
    "                raise Exception(request_data['message'])\n",
    "\n",
    "\n",
    "            try:    \n",
    "                if( 'response' in request_data.keys() ):\n",
    "                    response = request_data['response']\n",
    "                    if( 'docs' in response.keys() ):\n",
    "                        docs = response['docs']\n",
    "                        count = 0\n",
    "                        for doc in docs:\n",
    "                            count += 1\n",
    "                            print('doc '+str(count)+' in page')\n",
    "                            #print(doc.keys())\n",
    "                            #dict_keys(['web_url', 'snippet', 'lead_paragraph', 'abstract', 'print_page', 'blog', \n",
    "                            #'source', 'multimedia', 'headline', 'keywords', 'pub_date', 'document_type', 'news_desk', \n",
    "                            #'section_name', 'subsection_name', 'byline', 'type_of_material', '_id', 'word_count', \n",
    "                            #'slideshow_credits'])\n",
    "                            if( 'keywords' in doc.keys() ):\n",
    "                                keywords = doc['keywords']\n",
    "                                yes_cali = False \n",
    "                                try:\n",
    "                                    for key_set in keywords:\n",
    "                                        if 'name' in key_set.keys() and 'value' in key_set.keys():\n",
    "                                            name = key_set['name']\n",
    "                                            value = key_set['value']\n",
    "                                            if name.lower() == 'glocations' and value.lower() == 'california':\n",
    "                                                yes_cali = True\n",
    "                                except Exception as error:\n",
    "                                    print(repr(error))            \n",
    "                                        \n",
    "                                if yes_cali:\n",
    "                                    for key_set in keywords:\n",
    "                                        #print('Printing keys before error')\n",
    "                                        #print(key_set.keys())\n",
    "                                        try:\n",
    "                                            if 'name' in key_set.keys() and 'value' in key_set.keys():\n",
    "                                                name = key_set['name']\n",
    "                                                value = key_set['value']\n",
    "                                                if name.lower() == 'subject':\n",
    "                                                    if not os.path.exists(path+'\\\\'+value):\n",
    "                                                        os.makedirs(path+'\\\\'+value)\n",
    "                                                    file_path = path+'\\\\'+value+'\\\\'+doc.get('_id')+\".json\"\n",
    "\n",
    "                                                    #checking if file exists\n",
    "                                                    if not os.path.exists(file_path):\n",
    "                                                        #updating the counter    \n",
    "                                                        if value in topic_index_dict:\n",
    "                                                            topic_index_dict[value] = topic_index_dict[value] + 1\n",
    "                                                        else:\n",
    "                                                            topic_index_dict[value] = 1\n",
    "                                                        #dumping the file\n",
    "                                                        #print(file_path+' writing')\n",
    "                                                        with open(file_path, \"w\") as outfile:\n",
    "                                                            json.dump(doc, outfile, indent=4)                                                        \n",
    "                                                    #else: \n",
    "                                                        #print(file_path+' exists')\n",
    "                                        except Exception as error:\n",
    "                                            print('Caught --> : ' + repr(error))\n",
    "            except ValueError:\n",
    "                print(\"error :\", sys.exc_info()[0])\n",
    "                break\n",
    "            #print(path)        \n",
    "\n",
    "            i = i+1\n",
    "        except Exception as error:\n",
    "            print('Caught this error in while: ' + repr(error))\n",
    "            continue  \n",
    "except Exception as error:\n",
    "    print('Caught this error: ' + repr(error))\n",
    "print('Completed collecting and storing!')"
   ]
  },
  {
   "cell_type": "code",
   "execution_count": null,
   "metadata": {
    "collapsed": true
   },
   "outputs": [],
   "source": []
  }
 ],
 "metadata": {
  "kernelspec": {
   "display_name": "Python 3",
   "language": "python",
   "name": "python3"
  },
  "language_info": {
   "codemirror_mode": {
    "name": "ipython",
    "version": 3
   },
   "file_extension": ".py",
   "mimetype": "text/x-python",
   "name": "python",
   "nbconvert_exporter": "python",
   "pygments_lexer": "ipython3",
   "version": "3.6.0"
  }
 },
 "nbformat": 4,
 "nbformat_minor": 2
}
